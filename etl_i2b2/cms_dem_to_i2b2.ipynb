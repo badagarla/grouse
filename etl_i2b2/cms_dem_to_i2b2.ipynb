{
 "cells": [
  {
   "cell_type": "markdown",
   "metadata": {},
   "source": [
    "# Loading Medicare and Medicaid Claims data into i2b2\n",
    "\n",
    "[CMS RIF][] docs\n",
    "\n",
    "This notebook is on demographics.\n",
    "\n",
    "[CMS RIF]: https://www.resdac.org/cms-data/file-availability#research-identifiable-files"
   ]
  },
  {
   "cell_type": "markdown",
   "metadata": {},
   "source": [
    "## Python Data Science Tools\n",
    "\n",
    "especially [pandas](http://pandas.pydata.org/pandas-docs/)"
   ]
  },
  {
   "cell_type": "code",
   "execution_count": null,
   "metadata": {},
   "outputs": [],
   "source": [
    "import pandas as pd\n",
    "import numpy as np\n",
    "import sqlalchemy as sqla\n",
    "dict(pandas=pd.__version__, numpy=np.__version__, sqlalchemy=sqla.__version__)"
   ]
  },
  {
   "cell_type": "markdown",
   "metadata": {},
   "source": [
    "## DB Access: Luigi Config, Logging\n",
    "\n",
    "[luigi docs](https://luigi.readthedocs.io/en/stable/)"
   ]
  },
  {
   "cell_type": "code",
   "execution_count": null,
   "metadata": {},
   "outputs": [],
   "source": [
    "# Passwords are expected to be in the environment.\n",
    "# Prompt if it's not already there.\n",
    "    \n",
    "def _fix_password():\n",
    "    from os import environ\n",
    "    import getpass\n",
    "    keyname = getpass.getuser().upper() + '_SGROUSE'\n",
    "    if keyname not in environ:\n",
    "        environ[keyname] = getpass.getpass()\n",
    "_fix_password()"
   ]
  },
  {
   "cell_type": "code",
   "execution_count": null,
   "metadata": {},
   "outputs": [],
   "source": [
    "import luigi\n",
    "\n",
    "\n",
    "def _reset_config(path):\n",
    "    '''Reach into luigi guts and reset the config.\n",
    "    \n",
    "    Don't ask.'''\n",
    "    cls = luigi.configuration.LuigiConfigParser\n",
    "    cls._instance = None  # KLUDGE\n",
    "    cls._config_paths = [path]\n",
    "    return cls.instance()\n",
    "\n",
    "_reset_config('luigi-sgrouse.cfg')\n",
    "luigi.configuration.LuigiConfigParser.instance()._config_paths"
   ]
  },
  {
   "cell_type": "code",
   "execution_count": null,
   "metadata": {},
   "outputs": [],
   "source": [
    "import cx_ora_fix\n",
    "\n",
    "help(cx_ora_fix)"
   ]
  },
  {
   "cell_type": "code",
   "execution_count": null,
   "metadata": {},
   "outputs": [],
   "source": [
    "cx_ora_fix.patch_version()\n",
    "\n",
    "import cx_Oracle as cx\n",
    "dict(cx_Oracle=cx.__version__, version_for_sqlalchemy=cx.version)"
   ]
  },
  {
   "cell_type": "code",
   "execution_count": null,
   "metadata": {},
   "outputs": [],
   "source": [
    "import logging\n",
    "\n",
    "concise = logging.Formatter(fmt='%(asctime)s %(levelname)s %(message)s',\n",
    "                            datefmt='%02H:%02M:%02S')\n",
    "\n",
    "def log_to_notebook(log,\n",
    "                    formatter=concise):\n",
    "    log.setLevel(logging.DEBUG)\n",
    "    to_notebook = logging.StreamHandler()\n",
    "    to_notebook.setFormatter(formatter)\n",
    "    log.addHandler(to_notebook)\n",
    "    return log"
   ]
  },
  {
   "cell_type": "code",
   "execution_count": null,
   "metadata": {},
   "outputs": [],
   "source": [
    "from cms_etl import CMSExtract\n",
    "\n",
    "try:\n",
    "    log.info('Already logging to notebook.')\n",
    "except NameError:\n",
    "    cms_rif_task = CMSExtract()\n",
    "    log = log_to_notebook(logging.getLogger())\n",
    "\n",
    "    log.info('We try to log non-trivial DB access.')\n",
    "\n",
    "    with cms_rif_task.connection() as lc:\n",
    "        lc.log.info('first bene_id')\n",
    "        first_bene_id = pd.read_sql('select min(bene_id) bene_id_first from %s.%s' % (\n",
    "            cms_rif_task.cms_rif, cms_rif_task.table_eg), lc._conn)\n",
    "\n",
    "first_bene_id"
   ]
  },
  {
   "cell_type": "markdown",
   "metadata": {},
   "source": [
    "## Demographics: MBSF_AB_SUMMARY, MAXDATA_PS"
   ]
  },
  {
   "cell_type": "markdown",
   "metadata": {},
   "source": [
    "### Breaking work into groups by beneficiary"
   ]
  },
  {
   "cell_type": "code",
   "execution_count": null,
   "metadata": {},
   "outputs": [],
   "source": [
    "from cms_etl import BeneIdSurvey\n",
    "from cms_pd import MBSFUpload\n",
    "\n",
    "survey_d = BeneIdSurvey(source_table=MBSFUpload.table_name)\n",
    "chunk_m0 = survey_d.results()[0]\n",
    "chunk_m0 = pd.Series(chunk_m0, index=chunk_m0.keys())\n",
    "chunk_m0"
   ]
  },
  {
   "cell_type": "code",
   "execution_count": null,
   "metadata": {},
   "outputs": [],
   "source": [
    "dem = MBSFUpload(bene_id_first=chunk_m0.bene_id_first,\n",
    "                 bene_id_last=chunk_m0.bene_id_last,\n",
    "                 chunk_rows=chunk_m0.chunk_rows)\n",
    "dem"
   ]
  },
  {
   "cell_type": "markdown",
   "metadata": {},
   "source": [
    "## Column Info: Value Type, Level of Measurement"
   ]
  },
  {
   "cell_type": "code",
   "execution_count": null,
   "metadata": {},
   "outputs": [],
   "source": [
    "with dem.connection() as lc:\n",
    "    col_data_d = dem.column_data(lc)\n",
    "col_data_d.head(3)"
   ]
  },
  {
   "cell_type": "code",
   "execution_count": null,
   "metadata": {},
   "outputs": [],
   "source": [
    "colprops_d = dem.column_properties(col_data_d)\n",
    "colprops_d.sort_values(['valtype_cd', 'column_name'])"
   ]
  },
  {
   "cell_type": "code",
   "execution_count": null,
   "metadata": {},
   "outputs": [],
   "source": [
    "with dem.connection() as lc:\n",
    "    for x, pct_in in dem.obs_data(lc, upload_id=100):\n",
    "        break\n",
    "pct_in"
   ]
  },
  {
   "cell_type": "code",
   "execution_count": null,
   "metadata": {},
   "outputs": [],
   "source": [
    "x.sort_values(['instance_num', 'valtype_cd']).head(50)"
   ]
  },
  {
   "cell_type": "markdown",
   "metadata": {},
   "source": [
    "### MAXDATA_PS: skip custom for now"
   ]
  },
  {
   "cell_type": "code",
   "execution_count": null,
   "metadata": {},
   "outputs": [],
   "source": [
    "from cms_pd import MAXPSUpload\n",
    "\n",
    "survey_d = BeneIdSurvey(source_table=MAXPSUpload.table_name)\n",
    "chunk_ps0 = survey_d.results()[0]\n",
    "chunk_ps0 = pd.Series(chunk_ps0, index=chunk_ps0.keys())\n",
    "chunk_ps0"
   ]
  },
  {
   "cell_type": "code",
   "execution_count": null,
   "metadata": {},
   "outputs": [],
   "source": [
    "dem2 = MAXPSUpload(bene_id_first=chunk_ps0.bene_id_first,\n",
    "                  bene_id_last=chunk_ps0.bene_id_last,\n",
    "                  chunk_rows=chunk_ps0.chunk_rows)\n",
    "dem2"
   ]
  },
  {
   "cell_type": "code",
   "execution_count": null,
   "metadata": {},
   "outputs": [],
   "source": [
    "with dem2.connection() as lc:\n",
    "    col_data_d2 = dem2.column_data(lc)\n",
    "col_data_d2.head(3)"
   ]
  },
  {
   "cell_type": "markdown",
   "metadata": {},
   "source": [
    "`maxdata_ps` has many groups of columns with names ending in `_1`, `_2`, `_3`, and so on:"
   ]
  },
  {
   "cell_type": "code",
   "execution_count": null,
   "metadata": {},
   "outputs": [],
   "source": [
    "col_groups = col_data_d2[col_data_d2.column_name.str.match('.*_\\d+$')]\n",
    "col_groups.tail()"
   ]
  },
  {
   "cell_type": "code",
   "execution_count": null,
   "metadata": {},
   "outputs": [],
   "source": [
    "pd.DataFrame([dict(all_cols=len(col_data_d2),\n",
    "                   cols_in_groups=len(col_groups),\n",
    "                   plain_cols=len(col_data_d2) - len(col_groups))])"
   ]
  },
  {
   "cell_type": "code",
   "execution_count": null,
   "metadata": {},
   "outputs": [],
   "source": [
    "from cms_pd import col_valtype\n",
    "\n",
    "def _cprop(cls, valtype_override, info: pd.DataFrame) -> pd.DataFrame:\n",
    "    info['valtype_cd'] = [col_valtype(c).value for c in info.column.values]\n",
    "\n",
    "    for cd, pat in valtype_override:\n",
    "        info.valtype_cd = info.valtype_cd.where(~ info.column_name.str.match(pat), cd)\n",
    "    info.loc[info.column_name.isin(cls.i2b2_map.values()), 'valtype_cd'] = np.nan\n",
    "\n",
    "    return info.drop('column', 1)\n",
    "\n",
    "_vo = [\n",
    "    ('@', r'.*race_code_\\d$'),\n",
    "    ('@custom_postpone', r'.*_\\d+$')\n",
    "]\n",
    "#dem2.column_properties(col_data_d2)\n",
    "colprops_d2 = _cprop(dem2.__class__, _vo, col_data_d2)\n",
    "\n",
    "colprops_d2.query('valtype_cd != \"@custom_postpone\"').sort_values(['valtype_cd', 'column_name'])"
   ]
  },
  {
   "cell_type": "code",
   "execution_count": null,
   "metadata": {},
   "outputs": [],
   "source": [
    "colprops_d2.dtypes"
   ]
  },
  {
   "cell_type": "markdown",
   "metadata": {},
   "source": [
    "## Patient, Encounter Mapping"
   ]
  },
  {
   "cell_type": "code",
   "execution_count": null,
   "metadata": {},
   "outputs": [],
   "source": [
    "obs_facts = obs_dx.append(obs_cd).append(obs_num).append(obs_txt).append(obs_dt)\n",
    "\n",
    "with cc.connection('patient map') as lc:\n",
    "    pmap = cc.patient_mapping(lc, (obs_facts.bene_id.min(), obs_facts.bene_id.max()))"
   ]
  },
  {
   "cell_type": "code",
   "execution_count": null,
   "metadata": {},
   "outputs": [],
   "source": [
    "from etl_tasks import I2B2ProjectCreate\n",
    "\n",
    "obs_patnum = obs_facts.merge(pmap, on='bene_id')\n",
    "obs_patnum.sort_values('start_date').head()[[\n",
    "    col.name for col in I2B2ProjectCreate.observation_fact_columns\n",
    "    if col.name in obs_patnum.columns.values]]"
   ]
  },
  {
   "cell_type": "code",
   "execution_count": null,
   "metadata": {},
   "outputs": [],
   "source": [
    "with cc.connection() as lc:\n",
    "    emap = cc.encounter_mapping(lc, (obs_dx.bene_id.min(), obs_dx.bene_id.max()))\n",
    "emap.head()"
   ]
  },
  {
   "cell_type": "code",
   "execution_count": null,
   "metadata": {},
   "outputs": [],
   "source": [
    "'medpar_id' in obs_patnum.columns.values"
   ]
  },
  {
   "cell_type": "code",
   "execution_count": null,
   "metadata": {},
   "outputs": [],
   "source": [
    "obs_pmap_emap = cc.pat_day_rollup(obs_patnum, emap)\n",
    "x = obs_pmap_emap\n",
    "(x[(x.encounter_num > 0) | (x.encounter_num % 8 == 0) ][::5]\n",
    "  .reset_index().set_index(['patient_num', 'start_date', 'encounter_num']).sort_index()\n",
    "  .head(15)[['medpar_id', 'start_day', 'admsn_dt', 'dschrg_dt', 'concept_cd']])"
   ]
  },
  {
   "cell_type": "markdown",
   "metadata": {},
   "source": [
    "### Provider etc. done?"
   ]
  },
  {
   "cell_type": "code",
   "execution_count": null,
   "metadata": {},
   "outputs": [],
   "source": [
    "obs_mapped = cc.with_mapping(obs_dx, pmap, emap)\n",
    "obs_mapped.columns"
   ]
  },
  {
   "cell_type": "code",
   "execution_count": null,
   "metadata": {},
   "outputs": [],
   "source": [
    "[col.name for col in I2B2ProjectCreate.observation_fact_columns\n",
    " if not col.nullable and col.name not in obs_mapped.columns.values]"
   ]
  },
  {
   "cell_type": "code",
   "execution_count": null,
   "metadata": {},
   "outputs": [],
   "source": [
    "test_run = False\n",
    "\n",
    "if test_run:\n",
    "    cc.run()"
   ]
  },
  {
   "cell_type": "markdown",
   "metadata": {},
   "source": [
    "## Drugs: PDE"
   ]
  },
  {
   "cell_type": "code",
   "execution_count": null,
   "metadata": {},
   "outputs": [],
   "source": [
    "from cms_pd import DrugEventUpload\n",
    "\n",
    "du = DrugEventUpload(bene_id_first=bene_chunks.iloc[0].bene_id_first,\n",
    "                     bene_id_last=bene_chunks.iloc[0].bene_id_last,\n",
    "                     chunk_rows=bene_chunks.iloc[0].chunk_rows,\n",
    "                     chunk_size=1000)\n",
    "\n",
    "with du.connection() as lc:\n",
    "    du_cols = du.column_data(lc)"
   ]
  },
  {
   "cell_type": "code",
   "execution_count": null,
   "metadata": {},
   "outputs": [],
   "source": [
    "du.column_properties(du_cols).sort_values('valtype_cd')"
   ]
  },
  {
   "cell_type": "code",
   "execution_count": null,
   "metadata": {},
   "outputs": [],
   "source": [
    "with du.connection() as lc:\n",
    "    for x, pct_in in du.obs_data(lc, upload_id=100):\n",
    "        break"
   ]
  },
  {
   "cell_type": "code",
   "execution_count": null,
   "metadata": {},
   "outputs": [],
   "source": [
    "x.sort_values(['instance_num', 'valtype_cd']).head(50)"
   ]
  },
  {
   "cell_type": "markdown",
   "metadata": {},
   "source": [
    "## Performance Results"
   ]
  },
  {
   "cell_type": "code",
   "execution_count": null,
   "metadata": {},
   "outputs": [],
   "source": [
    "bulk_migrate = '''\n",
    "insert /*+ parallel(24) append */ into dconnolly.observation_fact\n",
    "select * from dconnolly.observation_fact_2440\n",
    "'''"
   ]
  },
  {
   "cell_type": "code",
   "execution_count": null,
   "metadata": {},
   "outputs": [],
   "source": [
    "with cc.connection() as lc:\n",
    "    lc.execute('truncate table my_plan_table')\n",
    "    print(lc._conn.engine.url.query)\n",
    "    print(pd.read_sql('select count(*) from my_plan_table', lc._conn))\n",
    "    lc._conn.execute('explain plan into my_plan_table for ' + bulk_migrate)\n",
    "    plan = pd.read_sql('select * from my_plan_table', lc._conn)\n",
    "\n",
    "plan"
   ]
  },
  {
   "cell_type": "code",
   "execution_count": null,
   "metadata": {},
   "outputs": [],
   "source": [
    "with cc.connection() as lc:\n",
    "    lc.execute('truncate table my_plan_table')\n",
    "    print(pd.read_sql('select * from my_plan_table', lc._conn))\n",
    "    db = lc._conn.engine\n",
    "    cx = db.dialect.dbapi\n",
    "    dsn = cx.makedsn(db.url.host, db.url.port, db.url.database)\n",
    "    conn = cx.connect(db.url.username, db.url.password, dsn,\n",
    "                      threaded=True, twophase=True)\n",
    "    cur = conn.cursor()\n",
    "    cur.execute('explain plan into my_plan_table for ' + bulk_migrate)\n",
    "    cur.close()\n",
    "    conn.commit()\n",
    "    conn.close()\n",
    "    plan = pd.read_sql('select * from my_plan_table', lc._conn)\n",
    "\n",
    "plan"
   ]
  },
  {
   "cell_type": "code",
   "execution_count": null,
   "metadata": {},
   "outputs": [],
   "source": [
    "select /*+ parallel(24) */ max(bene_enrollmt_ref_yr)\n",
    "from cms_deid.mbsf_ab_summary;"
   ]
  },
  {
   "cell_type": "code",
   "execution_count": null,
   "metadata": {},
   "outputs": [],
   "source": [
    "select * from upload_status\n",
    "where upload_id >= 2799 -- and message is not null -- 2733\n",
    "order by upload_id desc;\n",
    "-- order by end_date desc;"
   ]
  },
  {
   "cell_type": "code",
   "execution_count": null,
   "metadata": {},
   "outputs": [],
   "source": [
    "select load_status, count(*), min(upload_id), max(upload_id), min(load_date), max(end_date)\n",
    "     , to_char(sum(loaded_record), '999,999,999') loaded_record\n",
    "     , round(sum(loaded_record) / 1000 / ((max(end_date) - min(load_date)) * 24 * 60)) krows_min\n",
    "from (\n",
    "  select upload_id, loaded_record, load_status, load_date, end_date, end_date - load_date elapsed\n",
    "  from upload_status\n",
    "  where upload_label like 'MBSFUp%'\n",
    ")\n",
    "group by load_status\n",
    ";"
   ]
  },
  {
   "cell_type": "markdown",
   "metadata": {},
   "source": [
    "## Reimport code into running notebook"
   ]
  },
  {
   "cell_type": "code",
   "execution_count": null,
   "metadata": {},
   "outputs": [],
   "source": [
    "import importlib\n",
    "\n",
    "import cms_pd\n",
    "import cms_etl\n",
    "import etl_tasks\n",
    "import eventlog\n",
    "import script_lib\n",
    "importlib.reload(script_lib)\n",
    "importlib.reload(eventlog)\n",
    "importlib.reload(cms_pd)\n",
    "importlib.reload(cms_etl)\n",
    "importlib.reload(etl_tasks);"
   ]
  }
 ],
 "metadata": {
  "kernelspec": {
   "display_name": "Python 3",
   "language": "python",
   "name": "python3"
  },
  "language_info": {
   "codemirror_mode": {
    "name": "ipython",
    "version": 3
   },
   "file_extension": ".py",
   "mimetype": "text/x-python",
   "name": "python",
   "nbconvert_exporter": "python",
   "pygments_lexer": "ipython3",
   "version": "3.5.2"
  }
 },
 "nbformat": 4,
 "nbformat_minor": 2
}
