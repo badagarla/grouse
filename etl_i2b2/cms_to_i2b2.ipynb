{
 "cells": [
  {
   "cell_type": "markdown",
   "metadata": {},
   "source": [
    "# Loading Medicare and Medicaid Claims data into i2b2\n",
    "\n",
    "focus is currently on carrier claims\n",
    "\n",
    "(demographics was done in Oracle PL/SQL)\n",
    "\n",
    "so far, we can get data in chunks, map patients and encounters, pivot diagnoses, and insert the result into an observation_fact table (which is missing some constraints).\n"
   ]
  },
  {
   "cell_type": "markdown",
   "metadata": {},
   "source": [
    "## Python Data Science Tools\n",
    "\n",
    "especially [pandas](http://pandas.pydata.org/pandas-docs/)"
   ]
  },
  {
   "cell_type": "code",
   "execution_count": null,
   "metadata": {},
   "outputs": [],
   "source": [
    "import pandas as pd\n",
    "import numpy as np\n",
    "import sqlalchemy as sqla\n",
    "dict(pandas=pd.__version__, numpy=np.__version__, sqlalchemy=sqla.__version__)"
   ]
  },
  {
   "cell_type": "markdown",
   "metadata": {},
   "source": [
    "## Data Access via Luigi Config\n",
    "\n",
    "[luigi docs](https://luigi.readthedocs.io/en/stable/)"
   ]
  },
  {
   "cell_type": "code",
   "execution_count": null,
   "metadata": {},
   "outputs": [],
   "source": [
    "import luigi"
   ]
  },
  {
   "cell_type": "code",
   "execution_count": null,
   "metadata": {},
   "outputs": [],
   "source": [
    "import pathlib"
   ]
  },
  {
   "cell_type": "code",
   "execution_count": null,
   "metadata": {},
   "outputs": [],
   "source": [
    "def explicit_config(configRd):\n",
    "    cls = luigi.configuration.LuigiConfigParser\n",
    "    cls._instance = None  # KLUDGE\n",
    "    cls._config_paths = [str(configRd)]\n",
    "    return cls.instance()\n",
    "\n",
    "explicit_config(pathlib.Path('luigi-sgrouse.cfg'))\n",
    "luigi.configuration.LuigiConfigParser.instance()._config_paths"
   ]
  },
  {
   "cell_type": "code",
   "execution_count": null,
   "metadata": {
    "collapsed": true
   },
   "outputs": [],
   "source": [
    "import etl_tasks\n",
    "import cms_etl\n",
    "from script_lib import Script"
   ]
  },
  {
   "cell_type": "code",
   "execution_count": null,
   "metadata": {},
   "outputs": [],
   "source": [
    "class CarrierClaims(etl_tasks.DBAccessTask, cms_etl.FromCMS):\n",
    "    table = 'CMS_DEID.bcarrier_claims'\n",
    "\n",
    "    def chunk(self, bene_id_first, bene_id_last):\n",
    "        # TODO: use sqlalchemy API\n",
    "        q = '''\n",
    "        select *\n",
    "        from %(T)s\n",
    "        where bene_id between :bene_id_first and :bene_id_last\n",
    "        ''' % dict(T=self.table)\n",
    "        with self.connection() as conn:\n",
    "            t = etl_tasks.SqlScriptTask(script=Script.cms_facts_load)\n",
    "            plan = t.explain_plan(conn, q)\n",
    "            print('@@', '\\n'.join(plan))\n",
    "            return pd.read_sql(q, conn._conn,\n",
    "                               params=dict(bene_id_first=bene_id_first,\n",
    "                                           bene_id_last=bene_id_last))\n",
    "\n",
    "cc = CarrierClaims()\n",
    "cc.account, cc.source.cms_rif"
   ]
  },
  {
   "cell_type": "code",
   "execution_count": null,
   "metadata": {},
   "outputs": [],
   "source": [
    "# TODO: parameterize CMS_DEID\n",
    "def bene_id_survey(conn, source_table, schema,\n",
    "                   chunk_qty=100000,\n",
    "                   parallel_degree=10):\n",
    "    q = '''\n",
    "      select chunk_num\n",
    "        , count(*) chunk_size\n",
    "        , min(bene_id) bene_id_first\n",
    "        , max(bene_id) bene_id_last\n",
    "        from (\n",
    "        select bene_id, ntile(:chunk_qty) over (order by bene_id) as chunk_num\n",
    "        from (select /*+ parallel(%(DEGREE)d) */ distinct bene_id\n",
    "              from %(SCHEMA)s.%(SOURCE_TABLE)s\n",
    "              /* Eliminate null case so that index can be used. */\n",
    "              where bene_id is not null)\n",
    "        ) group by chunk_num\n",
    "      order by chunk_num  \n",
    "    ''' % dict(SOURCE_TABLE=source_table, SCHEMA=schema, DEGREE=parallel_degree)\n",
    "    return pd.read_sql(q, conn, params=dict(chunk_qty=chunk_qty)).set_index('chunk_num')\n",
    "\n",
    "with cc.connection() as conn:\n",
    "    bene_chunks = bene_id_survey(conn._conn, 'bcarrier_claims', cc.source.cms_rif)\n",
    "\n",
    "bene_chunks.head()"
   ]
  },
  {
   "cell_type": "code",
   "execution_count": null,
   "metadata": {
    "scrolled": true
   },
   "outputs": [],
   "source": [
    "with cc.connection() as conn:\n",
    "    data = cc.chunk(bene_chunks.iloc[0].bene_id_first,\n",
    "                    bene_chunks.iloc[0].bene_id_last)\n",
    "data.info()"
   ]
  },
  {
   "cell_type": "code",
   "execution_count": null,
   "metadata": {},
   "outputs": [],
   "source": [
    "data.head()"
   ]
  },
  {
   "cell_type": "markdown",
   "metadata": {},
   "source": [
    "## Column Info: Level of Measurement"
   ]
  },
  {
   "cell_type": "markdown",
   "metadata": {},
   "source": [
    "Assign [levels of measurement](https://en.wikipedia.org/wiki/Level_of_measurement) based on column info:"
   ]
  },
  {
   "cell_type": "code",
   "execution_count": null,
   "metadata": {},
   "outputs": [],
   "source": [
    "def column_measurement(col_info):\n",
    "    m = col_info[['column_name', 'data_type']].copy()\n",
    "    m['valtype_cd'] = '@'\n",
    "    m.loc[col_info.data_type == 'NUMBER', 'valtype_cd'] = 'n'\n",
    "    m.loc[col_info.data_type == 'DATE', 'valtype_cd'] = 'd'\n",
    "    for text_id_suffix in ['_NPI', '_UPIN', '_TRIL_NUM', '_PIN_NUM']:\n",
    "        m.loc[col_info.column_name.str.endswith(text_id_suffix), 'valtype_cd'] = 't'\n",
    "    m.sort_index(inplace=True)\n",
    "    return m\n",
    "\n",
    "with cc.connection() as lc:\n",
    "    q = '''\n",
    "      select table_name, column_id, column_name, data_type\n",
    "      from all_tab_columns\n",
    "      where owner = :cms_rif\n",
    "        and table_name not like 'SYS_%'\n",
    "    '''\n",
    "    information_schema = pd.read_sql(q, lc._conn, params=dict(cms_rif=cc.source.cms_rif)).set_index('column_id')\n",
    "\n",
    "\n",
    "bcarrier_cols = information_schema[information_schema.table_name == 'BCARRIER_CLAIMS'].copy()\n",
    "bcarrier_cols['dx'] = bcarrier_cols.column_name.str.contains('_DGNS_')\n",
    "column_measurement(bcarrier_cols[~ bcarrier_cols.dx])"
   ]
  },
  {
   "cell_type": "markdown",
   "metadata": {},
   "source": [
    "## Nominal Data"
   ]
  },
  {
   "cell_type": "code",
   "execution_count": null,
   "metadata": {},
   "outputs": [],
   "source": [
    "key_cols = ['bene_id', 'clm_id', 'clm_from_dt', 'clm_thru_dt']\n",
    "nominal_cols = column_measurement(bcarrier_cols[~ bcarrier_cols.dx &\n",
    "                                               ~bcarrier_cols.column_name.str.lower().isin(key_cols)])\n",
    "nominal_cols = nominal_cols[nominal_cols.valtype_cd == '@']\n",
    "nominal_cols"
   ]
  },
  {
   "cell_type": "code",
   "execution_count": null,
   "metadata": {},
   "outputs": [],
   "source": [
    "nominal_data = data[key_cols + [n for n in nominal_cols.column_name.str.lower()]].set_index(key_cols)\n",
    "nominal_data.head()"
   ]
  },
  {
   "cell_type": "markdown",
   "metadata": {},
   "source": [
    "### carr_num - coded, not numeric"
   ]
  },
  {
   "cell_type": "markdown",
   "metadata": {},
   "source": [
    "It looks like numeric info, but [carr_num docs](https://www.resdac.org/cms-data/variables/Carrier-Number) say it's a code."
   ]
  },
  {
   "cell_type": "code",
   "execution_count": null,
   "metadata": {},
   "outputs": [],
   "source": [
    "### AMBIENT\n",
    "def resdac_pg(path):\n",
    "    import urllib.request\n",
    "    addr = 'https://www.resdac.org/sites/resdac.umn.edu/' + path\n",
    "    content = urllib.request.urlopen(addr).read()\n",
    "    return content.decode('utf-8')\n",
    "\n",
    "pg = resdac_pg('files/Carrier%20Number-MAC%20Table.txt')\n",
    "len(pg)"
   ]
  },
  {
   "cell_type": "code",
   "execution_count": null,
   "metadata": {},
   "outputs": [],
   "source": [
    "def carr_num_table_line(txt):\n",
    "    code, label = txt.split(' = ', 1)\n",
    "    if '(' in label:\n",
    "        label, note = label.split(' (', 1)\n",
    "        note = '(' + note\n",
    "    else:\n",
    "        note = None\n",
    "    return dict(code=code, label=label, note=note)\n",
    "\n",
    "def carr_num_db(text):\n",
    "    lines = text.split('\\r\\n')\n",
    "    return pd.DataFrame([carr_num_table_line(l)\n",
    "                         for l in lines if ' = ' in l])\n",
    "\n",
    "carr_num_db(pg).head()"
   ]
  },
  {
   "cell_type": "code",
   "execution_count": null,
   "metadata": {
    "scrolled": true
   },
   "outputs": [],
   "source": [
    "obs_cd = (nominal_data.reset_index().melt(id_vars=key_cols, var_name='column')\n",
    "          .dropna(subset=['value'])\n",
    "          .sort_values(['clm_id', 'column'])\n",
    "          .set_index(key_cols))\n",
    "\n",
    "obs_cd['valtype_cd'] = '@'\n",
    "obs_cd['concept_cd'] = obs_cd.column.str.upper() + ':' + obs_cd.value\n",
    "obs_cd.head(20)"
   ]
  },
  {
   "cell_type": "markdown",
   "metadata": {},
   "source": [
    "### Diagnoses from Carrier Claims"
   ]
  },
  {
   "cell_type": "code",
   "execution_count": null,
   "metadata": {},
   "outputs": [],
   "source": [
    "dx_cols = column_measurement(bcarrier_cols[bcarrier_cols.dx])\n",
    "dx_vrsn_cols = dx_cols[1::2].reset_index()[['column_name']]\n",
    "dx_cols = dx_cols[::2].reset_index()[['column_name']]\n",
    "dx_cols = dx_cols.merge(dx_vrsn_cols, left_index=True, right_index=True, suffixes=['_cd', '_vrsn'])\n",
    "dx_cols"
   ]
  },
  {
   "cell_type": "code",
   "execution_count": null,
   "metadata": {
    "scrolled": true
   },
   "outputs": [],
   "source": [
    "def fmt_dx_code(dgns_vrsn, dgns_cd) -> str:\n",
    "    if dgns_vrsn == '10':\n",
    "        return 'ICD10:' + row.dgns_cd  # TODO: ICD10 formatting\n",
    "    # was: when dgns_vrsn = '9'\n",
    "    #   but I found null dgns_vrsn e.g. one record with ADMTG_DGNS_CD = V5789\n",
    "    #   so let's default to the IDC9 case\n",
    "    return 'ICD9:' + dgns_cd[:3] + (\n",
    "        ('.' + dgns_cd[3:]) if len(dgns_cd) > 3\n",
    "        else '')\n",
    "\n",
    "\n",
    "def dx_stack(data, dx_cols, key_cols):\n",
    "    out = None\n",
    "    for ix, pair in dx_cols.iterrows():\n",
    "        dx_data = data[key_cols + [pair.column_name_vrsn.lower(),\n",
    "                                   pair.column_name_cd.lower()]].set_index(key_cols)\n",
    "        # icd_dgns_cd11 -> icd_dgns_cd\n",
    "        dx_data.columns = ['dgns_vrsn', 'dgns_cd']\n",
    "        dx_data = dx_data.dropna(subset=['dgns_cd'])\n",
    "        dx_data['ix'] = ix\n",
    "        dx_data['column'] = pair.column_name_cd.lower()\n",
    "        if out is None:\n",
    "            out = dx_data\n",
    "        else:\n",
    "            out = out.append(dx_data)\n",
    "    return out\n",
    "\n",
    "dx_data = dx_stack(data, dx_cols, key_cols)\n",
    "dx_data['valtype_cd'] = '@'\n",
    "dx_data['concept_cd'] = [fmt_dx_code(row.dgns_vrsn, row.dgns_cd)\n",
    "                         for _, row in dx_data.iterrows()]\n",
    "dx_data.reset_index().sort_values(['clm_id', 'ix']).set_index(key_cols).head(40)"
   ]
  },
  {
   "cell_type": "markdown",
   "metadata": {},
   "source": [
    "## Patient, Encounter Mapping"
   ]
  },
  {
   "cell_type": "code",
   "execution_count": null,
   "metadata": {},
   "outputs": [],
   "source": [
    "class BeneMapper(object):\n",
    "    key_cols = '(BENE_ID)'\n",
    "\n",
    "    def __init__(self, patient_mapping):\n",
    "        self.patient_mapping = patient_mapping\n",
    "\n",
    "    @classmethod\n",
    "    def make(cls, conn, i2b2star, source_cd,\n",
    "             bene_id_first, bene_id_last):\n",
    "        q = '''\n",
    "        select patient_ide bene_id, patient_num\n",
    "        from %(I2B2STAR)s.patient_mapping\n",
    "        where patient_ide_source = :patient_ide_source\n",
    "        and patient_ide between :bene_id_first and :bene_id_last\n",
    "        ''' % dict(I2B2STAR=i2b2star)\n",
    "        \n",
    "        patient_mapping = pd.read_sql(\n",
    "            q, conn, params=dict(patient_ide_source=source_cd[1:-1] + cls.key_cols,\n",
    "                                 bene_id_first=bene_id_first,\n",
    "                                 bene_id_last=bene_id_last))\n",
    "        return cls(patient_mapping)\n",
    "\n",
    "    def lookup(self, data):\n",
    "        return data.merge(self.patient_mapping, on='bene_id')\n",
    "\n",
    "with cc.connection() as lc:\n",
    "    bm = BeneMapper.make(lc._conn, cc.project.star_schema, cc.source.source_cd,\n",
    "                        bene_chunks.iloc[0].bene_id_first, bene_chunks.iloc[0].bene_id_last)\n",
    "bm.patient_mapping.info()"
   ]
  },
  {
   "cell_type": "code",
   "execution_count": null,
   "metadata": {},
   "outputs": [],
   "source": [
    "bm.patient_mapping.head()"
   ]
  },
  {
   "cell_type": "code",
   "execution_count": null,
   "metadata": {
    "scrolled": true
   },
   "outputs": [],
   "source": [
    "bm.lookup(dx_data.reset_index().head())"
   ]
  },
  {
   "cell_type": "code",
   "execution_count": null,
   "metadata": {},
   "outputs": [],
   "source": [
    "class MedparMapper(object):\n",
    "    key_cols = '(MEDPAR_ID)'\n",
    "\n",
    "    def __init__(self, encounter_mapping):\n",
    "        self.encounter_mapping = encounter_mapping\n",
    "\n",
    "    @classmethod\n",
    "    def make(cls, conn, i2b2star, source_cd,\n",
    "             bene_id_first, bene_id_last):\n",
    "        q = '''\n",
    "        select encounter_ide medpar_id, encounter_num\n",
    "        from %(I2B2STAR)s.encounter_mapping\n",
    "        where encounter_ide_source = :encounter_ide_source\n",
    "        and patient_ide between :bene_id_first and :bene_id_last\n",
    "        ''' % dict(I2B2STAR=i2b2star)\n",
    "        \n",
    "        encounter_mapping = pd.read_sql(\n",
    "            q, conn, params=dict(encounter_ide_source=source_cd[1:-1] + cls.key_cols,\n",
    "                                 bene_id_first=bene_id_first,\n",
    "                                 bene_id_last=bene_id_last))\n",
    "        return cls(encounter_mapping)\n",
    "\n",
    "    @classmethod\n",
    "    def fmt_patient_day(cls, df):\n",
    "        return df.start_date.dt.strftime('%Y-%m-%d') + ' ' + df.bene_id\n",
    "\n",
    "    @classmethod\n",
    "    def _fallback(cls, df):\n",
    "        # @@TODO: replace hash with something portable between Oracle and python\n",
    "        return - cls.fmt_patient_day(df).apply(hash).abs()\n",
    "\n",
    "    def lookup(self, data):\n",
    "        x = data.merge(self.encounter_mapping, on='medpar_id', how='left')\n",
    "        x.encounter_num = x.encounter_num.fillna(self._fallback(x))\n",
    "        return x"
   ]
  },
  {
   "cell_type": "code",
   "execution_count": null,
   "metadata": {},
   "outputs": [],
   "source": [
    "with cc.connection() as lc:\n",
    "    mm0 = MedparMapper.make(lc._conn, cc.project.star_schema, cc.source.source_cd,\n",
    "                        bene_chunks.iloc[0].bene_id_first, bene_chunks.iloc[0].bene_id_last)\n",
    "mm0.encounter_mapping.info()"
   ]
  },
  {
   "cell_type": "code",
   "execution_count": null,
   "metadata": {},
   "outputs": [],
   "source": [
    "mm = MedparMapper(mm0.encounter_mapping)\n",
    "x = dx_data.head(50).reset_index().rename(columns=dict(clm_from_dt='start_date', clm_thru_dt='end_date'))\n",
    "x['medpar_id'] = np.nan\n",
    "\n",
    "mm.lookup(bm.lookup(x)).sort_values('start_date')"
   ]
  },
  {
   "cell_type": "code",
   "execution_count": null,
   "metadata": {},
   "outputs": [],
   "source": [
    "i2b2_key_cols = ['patient_num', 'encounter_num', 'start_date', 'concept_cd']\n",
    "i2b2_cols = i2b2_key_cols + ['valtype_cd', 'end_date']\n",
    "\n",
    "obs_fact = mm.lookup(bm.lookup(x))[i2b2_cols]\n",
    "obs_fact['provider_id'] = '@'  # TODO\n",
    "obs_fact['modifier_cd'] = bcarrier_cols.table_name.iloc[0]\n",
    "obs_fact['instance_num'] = obs_fact.index\n",
    "obs_fact.head()"
   ]
  },
  {
   "cell_type": "code",
   "execution_count": null,
   "metadata": {},
   "outputs": [],
   "source": [
    "with cc.connection() as lc:\n",
    "    obs_fact.to_sql(name='observation_fact_100', con=lc._conn,\n",
    "                   if_exists='append', index=False)"
   ]
  }
 ],
 "metadata": {
  "kernelspec": {
   "display_name": "Python 3",
   "language": "python",
   "name": "python3"
  },
  "language_info": {
   "codemirror_mode": {
    "name": "ipython",
    "version": 3
   },
   "file_extension": ".py",
   "mimetype": "text/x-python",
   "name": "python",
   "nbconvert_exporter": "python",
   "pygments_lexer": "ipython3",
   "version": "3.5.2"
  }
 },
 "nbformat": 4,
 "nbformat_minor": 2
}
