{
 "cells": [
  {
   "cell_type": "markdown",
   "metadata": {},
   "source": [
    "# Loading Medicare and Medicaid Claims data into i2b2\n",
    "\n",
    "[CMS RIF][] docs\n",
    "\n",
    "focus is currently on carrier claims\n",
    "\n",
    "(demographics was done in Oracle PL/SQL)\n",
    "\n",
    "so far, we can get data in chunks, map patients and encounters, pivot diagnoses, and insert the result into an observation_fact table (which is missing some constraints).\n",
    "\n",
    "[CMS RIF]: https://www.resdac.org/cms-data/file-availability#research-identifiable-files"
   ]
  },
  {
   "cell_type": "markdown",
   "metadata": {},
   "source": [
    "## Python Data Science Tools\n",
    "\n",
    "especially [pandas](http://pandas.pydata.org/pandas-docs/)"
   ]
  },
  {
   "cell_type": "code",
   "execution_count": null,
   "metadata": {},
   "outputs": [],
   "source": [
    "import pandas as pd\n",
    "import numpy as np\n",
    "import sqlalchemy as sqla\n",
    "dict(pandas=pd.__version__, numpy=np.__version__, sqlalchemy=sqla.__version__)"
   ]
  },
  {
   "cell_type": "markdown",
   "metadata": {},
   "source": [
    "## DB Access: Luigi Config, Logging\n",
    "\n",
    "[luigi docs](https://luigi.readthedocs.io/en/stable/)"
   ]
  },
  {
   "cell_type": "code",
   "execution_count": null,
   "metadata": {
    "collapsed": true
   },
   "outputs": [],
   "source": [
    "# Passwords are expected to be in the environment.\n",
    "# Prompt if it's not already there.\n",
    "    \n",
    "def _fix_password():\n",
    "    from os import environ\n",
    "    import getpass\n",
    "    keyname = getpass.getuser().upper() + '_SGROUSE'\n",
    "    if keyname not in environ:\n",
    "        environ[keyname] = getpass.getpass()\n",
    "_fix_password()"
   ]
  },
  {
   "cell_type": "code",
   "execution_count": null,
   "metadata": {},
   "outputs": [],
   "source": [
    "import luigi\n",
    "\n",
    "\n",
    "def _reset_config(path):\n",
    "    '''Reach into luigi guts and reset the config.\n",
    "    \n",
    "    Don't ask.'''\n",
    "    cls = luigi.configuration.LuigiConfigParser\n",
    "    cls._instance = None  # KLUDGE\n",
    "    cls._config_paths = [path]\n",
    "    return cls.instance()\n",
    "\n",
    "_reset_config('luigi-sgrouse.cfg')\n",
    "luigi.configuration.LuigiConfigParser.instance()._config_paths"
   ]
  },
  {
   "cell_type": "code",
   "execution_count": null,
   "metadata": {},
   "outputs": [],
   "source": [
    "import cx_ora_fix\n",
    "\n",
    "help(cx_ora_fix)"
   ]
  },
  {
   "cell_type": "code",
   "execution_count": null,
   "metadata": {},
   "outputs": [],
   "source": [
    "cx_ora_fix.patch_version()\n",
    "\n",
    "import cx_Oracle as cx\n",
    "dict(cx_Oracle=cx.__version__, version_for_sqlalchemy=cx.version)"
   ]
  },
  {
   "cell_type": "code",
   "execution_count": null,
   "metadata": {
    "collapsed": true
   },
   "outputs": [],
   "source": [
    "import logging\n",
    "\n",
    "concise = logging.Formatter(fmt='%(asctime)s %(levelname)s %(message)s',\n",
    "                            datefmt='%02H:%02M:%02S')\n",
    "\n",
    "def log_to_notebook(log,\n",
    "                    formatter=concise):\n",
    "    log.setLevel(logging.DEBUG)\n",
    "    to_notebook = logging.StreamHandler()\n",
    "    to_notebook.setFormatter(formatter)\n",
    "    log.addHandler(to_notebook)\n",
    "    return log"
   ]
  },
  {
   "cell_type": "code",
   "execution_count": null,
   "metadata": {},
   "outputs": [],
   "source": [
    "from cms_etl import CMSExtract\n",
    "\n",
    "try:\n",
    "    log.info('Already logging to notebook.')\n",
    "except NameError:\n",
    "    cms_rif_task = CMSExtract()\n",
    "    log = log_to_notebook(logging.getLogger())\n",
    "\n",
    "    log.info('We try to log non-trivial DB access.')\n",
    "\n",
    "    with cms_rif_task.connection() as lc:\n",
    "        lc.log.info('first bene_id')\n",
    "        first_bene_id = pd.read_sql('select min(bene_id) bene_id_first from %s.%s' % (\n",
    "            cms_rif_task.cms_rif, cms_rif_task.table_eg), lc._conn)\n",
    "\n",
    "first_bene_id"
   ]
  },
  {
   "cell_type": "markdown",
   "metadata": {},
   "source": [
    "## Carrier claims data: breaking work into groups by beneficiary\n",
    "\n",
    "We break down work by ranges of `bene_id`:"
   ]
  },
  {
   "cell_type": "code",
   "execution_count": null,
   "metadata": {},
   "outputs": [],
   "source": [
    "from cms_etl import BeneIdSurvey\n",
    "from cms_pd import CarrierClaimUpload\n",
    "\n",
    "survey = BeneIdSurvey(source_table=CarrierClaimUpload.table_name)\n",
    "survey.script.fname"
   ]
  },
  {
   "cell_type": "code",
   "execution_count": null,
   "metadata": {},
   "outputs": [],
   "source": [
    "bene_chunks = survey.results()\n",
    "bene_chunks\n",
    "bene_chunks = pd.DataFrame(bene_chunks, columns=bene_chunks[0].keys()).set_index('chunk_num')\n",
    "bene_chunks.head()"
   ]
  },
  {
   "cell_type": "code",
   "execution_count": null,
   "metadata": {},
   "outputs": [],
   "source": [
    "len(bene_chunks)"
   ]
  },
  {
   "cell_type": "markdown",
   "metadata": {},
   "source": [
    "Now define a task for the first chunk of beneficiaries:"
   ]
  },
  {
   "cell_type": "code",
   "execution_count": null,
   "metadata": {},
   "outputs": [],
   "source": [
    "from cms_pd import CarrierClaimUpload\n",
    "\n",
    "cc = CarrierClaimUpload(bene_id_first=bene_chunks.iloc[0].bene_id_first,\n",
    "                        bene_id_last=bene_chunks.iloc[0].bene_id_last,\n",
    "                        chunk_rows=bene_chunks.iloc[0].chunk_rows)\n",
    "cc.account, cc.source.cms_rif, cc.project.star_schema"
   ]
  },
  {
   "cell_type": "markdown",
   "metadata": {},
   "source": [
    "Within each group, we process the claims a few thousand at a time.\n",
    "\n",
    "_`sqlalchemy` makes a rather verbose query to get the input.\n",
    "Note that we log the execution plan as well._"
   ]
  },
  {
   "cell_type": "code",
   "execution_count": null,
   "metadata": {
    "collapsed": true
   },
   "outputs": [],
   "source": [
    "with cc.connection() as lc:\n",
    "    cclaims_in = next(cc.chunks(lc, chunk_size=2000))\n",
    "cclaims_in.info()"
   ]
  },
  {
   "cell_type": "code",
   "execution_count": null,
   "metadata": {
    "collapsed": true
   },
   "outputs": [],
   "source": [
    "cclaims_in.head()"
   ]
  },
  {
   "cell_type": "markdown",
   "metadata": {},
   "source": [
    "## Column Info: Value Type, Level of Measurement"
   ]
  },
  {
   "cell_type": "code",
   "execution_count": null,
   "metadata": {
    "collapsed": true
   },
   "outputs": [],
   "source": [
    "with cc.connection() as lc:\n",
    "    bcarrier_db_cols = cc.column_data(lc)\n",
    "bcarrier_db_cols.head(3).set_index('column_name')[['data_type']]"
   ]
  },
  {
   "cell_type": "markdown",
   "metadata": {},
   "source": [
    "Assign i2b2 value types based on column info:\n",
    "\n",
    "_See also: [levels of measurement][1]._\n",
    "\n",
    "_Diagnosis columns are discussed below._\n",
    "\n",
    "[1]: https://en.wikipedia.org/wiki/Level_of_measurement"
   ]
  },
  {
   "cell_type": "code",
   "execution_count": null,
   "metadata": {
    "collapsed": true
   },
   "outputs": [],
   "source": [
    "from cms_pd import Valtype, col_valtype\n",
    "\n",
    "list(Valtype), [t.value for t in Valtype], 't' in Valtype, Valtype('t') in Valtype"
   ]
  },
  {
   "cell_type": "code",
   "execution_count": null,
   "metadata": {
    "collapsed": true
   },
   "outputs": [],
   "source": [
    "bcarrier_cols = cc.column_properties(bcarrier_db_cols)\n",
    "bcarrier_cols[~ bcarrier_cols.is_dx].sort_values('valtype_cd').set_index('column_name')"
   ]
  },
  {
   "cell_type": "markdown",
   "metadata": {},
   "source": [
    "We did get them all, right?"
   ]
  },
  {
   "cell_type": "code",
   "execution_count": null,
   "metadata": {
    "collapsed": true
   },
   "outputs": [],
   "source": [
    "bcarrier_cols[~ bcarrier_cols.is_dx &\n",
    "              ~ bcarrier_cols.valtype_cd.isin([t.value for t in Valtype]) &\n",
    "              ~ bcarrier_cols.column_name.isin(cc.i2b2_map.values())]"
   ]
  },
  {
   "cell_type": "markdown",
   "metadata": {},
   "source": [
    "## Observation Facts by Value Type"
   ]
  },
  {
   "cell_type": "markdown",
   "metadata": {},
   "source": [
    "### Nominal data (no value type: @)"
   ]
  },
  {
   "cell_type": "code",
   "execution_count": null,
   "metadata": {
    "collapsed": true
   },
   "outputs": [],
   "source": [
    "obs_cd = cc.pivot_valtype(Valtype.coded, cclaims_in, cc.table_name, bcarrier_cols[~ bcarrier_cols.is_dx])\n",
    "\n",
    "(obs_cd.set_index(['bene_id', 'start_date', 'instance_num', 'modifier_cd'])\n",
    "       .sort_index().head(15)[['valtype_cd', 'concept_cd']])"
   ]
  },
  {
   "cell_type": "markdown",
   "metadata": {},
   "source": [
    "### Ordinal data (text: t)"
   ]
  },
  {
   "cell_type": "code",
   "execution_count": null,
   "metadata": {
    "collapsed": true
   },
   "outputs": [],
   "source": [
    "obs_txt = cc.pivot_valtype(Valtype.text, cclaims_in, cc.table_name, bcarrier_cols[~ bcarrier_cols.is_dx])\n",
    "\n",
    "obs_txt.set_index(['bene_id', 'start_date', 'concept_cd', 'instance_num', 'modifier_cd']\n",
    "                  ).sort_index().head(10)[['valtype_cd', 'tval_char']]"
   ]
  },
  {
   "cell_type": "markdown",
   "metadata": {},
   "source": [
    "### Interval data (date: d)"
   ]
  },
  {
   "cell_type": "code",
   "execution_count": null,
   "metadata": {
    "collapsed": true
   },
   "outputs": [],
   "source": [
    "obs_dt = cc.pivot_valtype(Valtype.date, cclaims_in, cc.table_name, bcarrier_cols[~ bcarrier_cols.is_dx])\n",
    "\n",
    "obs_dt.set_index(['bene_id', 'concept_cd', 'instance_num', 'modifier_cd']\n",
    "                  ).sort_index()[::20].head()[['valtype_cd', 'tval_char', 'start_date']]"
   ]
  },
  {
   "cell_type": "markdown",
   "metadata": {},
   "source": [
    "### Ratio data (numeric: n)"
   ]
  },
  {
   "cell_type": "code",
   "execution_count": null,
   "metadata": {
    "collapsed": true
   },
   "outputs": [],
   "source": [
    "obs_num = cc.pivot_valtype(Valtype.numeric, cclaims_in, cc.table_name, bcarrier_cols[~ bcarrier_cols.is_dx])\n",
    "obs_num.set_index(['bene_id', 'start_date', 'concept_cd', 'instance_num', 'modifier_cd']\n",
    "                  ).sort_index().head(10)[['valtype_cd', 'nval_num']]"
   ]
  },
  {
   "cell_type": "markdown",
   "metadata": {},
   "source": [
    "All together now..."
   ]
  },
  {
   "cell_type": "code",
   "execution_count": null,
   "metadata": {
    "collapsed": true
   },
   "outputs": [],
   "source": [
    "(obs_cd.append(obs_num).append(obs_txt).append(obs_dt)\n",
    " .set_index(['bene_id', 'instance_num', 'concept_cd'])  # , 'modifier_cd'\n",
    " .sort_index()\n",
    " .head(30)[\n",
    "    ['start_date', 'valtype_cd', 'nval_num', 'tval_char', 'end_date', 'update_date']])"
   ]
  },
  {
   "cell_type": "markdown",
   "metadata": {},
   "source": [
    "### Diagnoses: combining column groups"
   ]
  },
  {
   "cell_type": "code",
   "execution_count": null,
   "metadata": {
    "collapsed": true
   },
   "outputs": [],
   "source": [
    "from cms_pd import fmt_dx_codes\n",
    "\n",
    "#   I found null dgns_vrsn e.g. one record with ADMTG_DGNS_CD = V5789\n",
    "#   so let's default to the IDC9 case\n",
    "x = pd.DataFrame({'dgns_cd':   '185 4011 V0481 78552 R03 C220'.split() + ['V5789'],\n",
    "                  'dgns_vrsn': '  9    9     9     9  10   10'.split() + [None]})\n",
    "\n",
    "\n",
    "fmt_dx_codes(x.dgns_vrsn, x.dgns_cd)"
   ]
  },
  {
   "cell_type": "code",
   "execution_count": null,
   "metadata": {
    "collapsed": true
   },
   "outputs": [],
   "source": [
    "from cms_pd import col_groups\n",
    "\n",
    "dx_cols = col_groups(bcarrier_cols[bcarrier_cols.is_dx], ['_cd', '_vrsn'])\n",
    "dx_cols"
   ]
  },
  {
   "cell_type": "code",
   "execution_count": null,
   "metadata": {
    "collapsed": true
   },
   "outputs": [],
   "source": [
    "obs_dx = cc.dx_data(cclaims_in, cc.table_name, bcarrier_cols)\n",
    "obs_dx.set_index(['bene_id', 'start_date', 'instance_num', 'modifier_cd']).sort_index().head(15)"
   ]
  },
  {
   "cell_type": "markdown",
   "metadata": {},
   "source": [
    "## Patient, Encounter Mapping"
   ]
  },
  {
   "cell_type": "code",
   "execution_count": null,
   "metadata": {
    "collapsed": true
   },
   "outputs": [],
   "source": [
    "obs_facts = obs_dx.append(obs_cd).append(obs_num).append(obs_txt).append(obs_dt)\n",
    "\n",
    "with cc.connection('patient map') as lc:\n",
    "    pmap = cc.patient_mapping(lc, (obs_facts.bene_id.min(), obs_facts.bene_id.max()))"
   ]
  },
  {
   "cell_type": "code",
   "execution_count": null,
   "metadata": {
    "collapsed": true
   },
   "outputs": [],
   "source": [
    "from etl_tasks import I2B2ProjectCreate\n",
    "\n",
    "obs_patnum = obs_facts.merge(pmap, on='bene_id')\n",
    "obs_patnum.sort_values('start_date').head()[[\n",
    "    col.name for col in I2B2ProjectCreate.observation_fact_columns\n",
    "    if col.name in obs_patnum.columns.values]]"
   ]
  },
  {
   "cell_type": "code",
   "execution_count": null,
   "metadata": {
    "collapsed": true
   },
   "outputs": [],
   "source": [
    "with cc.connection() as lc:\n",
    "    emap = cc.encounter_mapping(lc, (obs_dx.bene_id.min(), obs_dx.bene_id.max()))\n",
    "emap.head()"
   ]
  },
  {
   "cell_type": "code",
   "execution_count": null,
   "metadata": {
    "collapsed": true
   },
   "outputs": [],
   "source": [
    "'medpar_id' in obs_patnum.columns.values"
   ]
  },
  {
   "cell_type": "code",
   "execution_count": null,
   "metadata": {
    "collapsed": true
   },
   "outputs": [],
   "source": [
    "obs_pmap_emap = cc.pat_day_rollup(obs_patnum, emap)\n",
    "x = obs_pmap_emap\n",
    "(x[(x.encounter_num > 0) | (x.encounter_num % 8 == 0) ][::5]\n",
    "  .reset_index().set_index(['patient_num', 'start_date', 'encounter_num']).sort_index()\n",
    "  .head(15)[['medpar_id', 'start_day', 'admsn_dt', 'dschrg_dt', 'concept_cd']])"
   ]
  },
  {
   "cell_type": "markdown",
   "metadata": {},
   "source": [
    "### Provider etc. done?"
   ]
  },
  {
   "cell_type": "code",
   "execution_count": null,
   "metadata": {
    "collapsed": true
   },
   "outputs": [],
   "source": [
    "[col for col in I2B2ProjectCreate.observation_fact_columns\n",
    " if not col.nullable and col.name not in obs_pmap_emap.columns.values]"
   ]
  },
  {
   "cell_type": "markdown",
   "metadata": {},
   "source": [
    "### No provider for carrier_claims???\n",
    "\n",
    "See [missing Carrier Claim Billing NPI Number #8](https://github.com/kumc-bmi/grouse/issues/8):"
   ]
  },
  {
   "cell_type": "code",
   "execution_count": null,
   "metadata": {
    "collapsed": true
   },
   "outputs": [],
   "source": [
    "'carr_clm_blg_npi_num' in bcarrier_cols.columns.values"
   ]
  },
  {
   "cell_type": "markdown",
   "metadata": {},
   "source": [
    "## Insert Facts"
   ]
  },
  {
   "cell_type": "code",
   "execution_count": null,
   "metadata": {
    "collapsed": true
   },
   "outputs": [],
   "source": [
    "clock = cc.source.download_date.__class__.now  # KLUDGE"
   ]
  },
  {
   "cell_type": "code",
   "execution_count": null,
   "metadata": {
    "collapsed": true
   },
   "outputs": [],
   "source": [
    "fact1 = cc.with_admin(obs_pmap_emap, import_date=clock(), upload_id=100)\n",
    "fact1.head()"
   ]
  },
  {
   "cell_type": "code",
   "execution_count": null,
   "metadata": {
    "collapsed": true
   },
   "outputs": [],
   "source": [
    "with cc.connection('test write') as lc:\n",
    "    fact1.head(100).to_sql(name='observation_fact_100', con=lc._conn,\n",
    "                   if_exists='append', index=False)"
   ]
  },
  {
   "cell_type": "markdown",
   "metadata": {},
   "source": [
    "## All together, from the top"
   ]
  },
  {
   "cell_type": "code",
   "execution_count": null,
   "metadata": {
    "collapsed": true
   },
   "outputs": [],
   "source": [
    "with cc.connection() as lc:\n",
    "    for x in cc.obs_data(lc, upload_id=100):\n",
    "        break\n",
    "\n",
    "x.head()"
   ]
  },
  {
   "cell_type": "code",
   "execution_count": null,
   "metadata": {
    "collapsed": true
   },
   "outputs": [],
   "source": [
    "test_run = False\n",
    "\n",
    "if test_run:\n",
    "    cc.run()"
   ]
  },
  {
   "cell_type": "markdown",
   "metadata": {},
   "source": [
    "### Carrier Line"
   ]
  },
  {
   "cell_type": "code",
   "execution_count": null,
   "metadata": {
    "collapsed": true
   },
   "outputs": [],
   "source": [
    "from cms_pd import _DxPxCombine\n",
    "\n",
    "class CarrierLineUpload(_DxPxCombine):\n",
    "    table_name = 'bcarrier_line'\n",
    "\n",
    "    #oops?\n",
    "    #valtype_override = [\n",
    "    #    ('@dx', r'.*(_dgns_|rsn_visit)'),\n",
    "    #    ('@px', r'.*prcdr_')\n",
    "    #]\n",
    "\n",
    "bl = CarrierLineUpload(bene_id_first=bene_chunks.iloc[0].bene_id_first,\n",
    "                 bene_id_last=bene_chunks.iloc[0].bene_id_last,\n",
    "                 chunk_rows=bene_chunks.iloc[0].chunk_rows,\n",
    "                 chunk_size=1000)\n",
    "\n",
    "with bl.connection() as lc:\n",
    "    bl_col_data = bl.column_data(lc)\n",
    "\n",
    "bl_col_data.head(3)"
   ]
  },
  {
   "cell_type": "code",
   "execution_count": null,
   "metadata": {
    "collapsed": true
   },
   "outputs": [],
   "source": [
    "bl_cols = bl.column_properties(bl_col_data)\n",
    "bl_cols.sort_values(['valtype_cd', 'column_name'])\n"
   ]
  },
  {
   "cell_type": "markdown",
   "metadata": {},
   "source": [
    "## Drugs: PDE"
   ]
  },
  {
   "cell_type": "code",
   "execution_count": null,
   "metadata": {
    "collapsed": true
   },
   "outputs": [],
   "source": [
    "from cms_pd import DrugEventUpload\n",
    "\n",
    "du = DrugEventUpload(bene_id_first=bene_chunks.iloc[0].bene_id_first,\n",
    "                     bene_id_last=bene_chunks.iloc[0].bene_id_last,\n",
    "                     chunk_rows=bene_chunks.iloc[0].chunk_rows,\n",
    "                     chunk_size=1000)\n",
    "\n",
    "with du.connection() as lc:\n",
    "    du_cols = du.column_data(lc)"
   ]
  },
  {
   "cell_type": "code",
   "execution_count": null,
   "metadata": {
    "collapsed": true
   },
   "outputs": [],
   "source": [
    "du.column_properties(du_cols).sort_values('valtype_cd')"
   ]
  },
  {
   "cell_type": "code",
   "execution_count": null,
   "metadata": {
    "collapsed": true
   },
   "outputs": [],
   "source": [
    "with du.connection() as lc:\n",
    "    for x, pct_in in du.obs_data(lc, upload_id=100):\n",
    "        break"
   ]
  },
  {
   "cell_type": "code",
   "execution_count": null,
   "metadata": {
    "collapsed": true
   },
   "outputs": [],
   "source": [
    "x.sort_values(['instance_num', 'valtype_cd']).head(50)"
   ]
  },
  {
   "cell_type": "markdown",
   "metadata": {},
   "source": [
    "## Demographics: MBSF_AB_SUMMARY, MAXDATA_PS"
   ]
  },
  {
   "cell_type": "code",
   "execution_count": null,
   "metadata": {
    "collapsed": true
   },
   "outputs": [],
   "source": [
    "from cms_pd import MBSFUpload\n",
    "\n",
    "survey_d = BeneIdSurvey(source_table=MBSFUpload.table_name)\n",
    "chunk_m0 = survey_d.results()[0]\n",
    "chunk_m0 = pd.Series(chunk_m0, index=chunk_m0.keys())\n",
    "chunk_m0"
   ]
  },
  {
   "cell_type": "code",
   "execution_count": null,
   "metadata": {
    "collapsed": true
   },
   "outputs": [],
   "source": [
    "dem = MBSFUpload(bene_id_first=chunk_m0.bene_id_first,\n",
    "                 bene_id_last=chunk_m0.bene_id_last,\n",
    "                 chunk_rows=chunk_m0.chunk_rows)\n",
    "dem"
   ]
  },
  {
   "cell_type": "code",
   "execution_count": null,
   "metadata": {
    "collapsed": true
   },
   "outputs": [],
   "source": [
    "with dem.connection() as lc:\n",
    "    col_data_d = dem.column_data(lc)\n",
    "col_data_d.head(3)"
   ]
  },
  {
   "cell_type": "code",
   "execution_count": null,
   "metadata": {
    "collapsed": true,
    "scrolled": true
   },
   "outputs": [],
   "source": [
    "colprops_d = dem.column_properties(col_data_d)\n",
    "colprops_d.sort_values(['valtype_cd', 'column_name'])"
   ]
  },
  {
   "cell_type": "code",
   "execution_count": null,
   "metadata": {
    "collapsed": true
   },
   "outputs": [],
   "source": [
    "with dem.connection() as lc:\n",
    "    for x, pct_in in dem.obs_data(lc, upload_id=100):\n",
    "        break\n",
    "pct_in"
   ]
  },
  {
   "cell_type": "code",
   "execution_count": null,
   "metadata": {
    "collapsed": true
   },
   "outputs": [],
   "source": [
    "x.sort_values(['instance_num', 'valtype_cd']).head(50)"
   ]
  },
  {
   "cell_type": "code",
   "execution_count": null,
   "metadata": {
    "collapsed": true
   },
   "outputs": [],
   "source": [
    "from cms_pd import MAXPSUpload\n",
    "\n",
    "survey_d = BeneIdSurvey(source_table=MAXPSUpload.table_name)\n",
    "chunk_ps0 = survey_d.results()[0]\n",
    "chunk_ps0 = pd.Series(chunk_ps0, index=chunk_ps0.keys())\n",
    "chunk_ps0"
   ]
  },
  {
   "cell_type": "code",
   "execution_count": null,
   "metadata": {
    "collapsed": true
   },
   "outputs": [],
   "source": [
    "dem2 = MAXPSUpload(bene_id_first=chunk_ps0.bene_id_first,\n",
    "                  bene_id_last=chunk_ps0.bene_id_last,\n",
    "                  chunk_rows=chunk_ps0.chunk_rows)\n",
    "dem2"
   ]
  },
  {
   "cell_type": "code",
   "execution_count": null,
   "metadata": {
    "collapsed": true,
    "scrolled": true
   },
   "outputs": [],
   "source": [
    "with dem2.connection() as lc:\n",
    "    col_data_d2 = dem2.column_data(lc)\n",
    "col_data_d2.head(3)"
   ]
  },
  {
   "cell_type": "code",
   "execution_count": null,
   "metadata": {
    "collapsed": true,
    "scrolled": false
   },
   "outputs": [],
   "source": [
    "colprops_d2 = dem2.column_properties(col_data_d2)\n",
    "x = colprops_d2.sort_values(['valtype_cd', 'column_name'])\n",
    "x[~x.column_name.str.match(r'.*(_mo_|_flg_|_ind_)\\d\\d?$')]"
   ]
  },
  {
   "cell_type": "markdown",
   "metadata": {},
   "source": [
    "## Outpatient Claims: Procedures (WIP)\n",
    "\n",
    "\n",
    "Here we deal with diagnoses as well as procedures."
   ]
  },
  {
   "cell_type": "code",
   "execution_count": null,
   "metadata": {
    "collapsed": true
   },
   "outputs": [],
   "source": [
    "from cms_pd import OutpatientClaimUpload\n",
    "\n",
    "oc = OutpatientClaimUpload(bene_id_first=bene_chunks.iloc[0].bene_id_first,\n",
    "                        bene_id_last=bene_chunks.iloc[0].bene_id_last)"
   ]
  },
  {
   "cell_type": "code",
   "execution_count": null,
   "metadata": {
    "collapsed": true
   },
   "outputs": [],
   "source": [
    "with oc.connection() as lc:\n",
    "    chunks = oc.chunks(lc, chunk_size=5000)\n",
    "    while 1:\n",
    "        oclaims_in = next(chunks)\n",
    "        proc_qty = (~oclaims_in.icd_prcdr_cd1.isnull()).sum()\n",
    "        print(\"@@found:\", proc_qty)\n",
    "        if proc_qty >= 4:\n",
    "            break\n",
    "    #x = pd.read_sql('select * from cms_deid.OUTPATIENT_BASE_CLAIMS where rownum <= 100', lc._conn)\n",
    "print(len(oclaims_in))\n",
    "oclaims_in.head()"
   ]
  },
  {
   "cell_type": "code",
   "execution_count": null,
   "metadata": {
    "collapsed": true
   },
   "outputs": [],
   "source": [
    "with oc.connection() as lc:\n",
    "    ocol_info = cc.column_properties(oc.column_data(lc))\n",
    "ocol_info[ocol_info.valtype_cd.isnull()]"
   ]
  },
  {
   "cell_type": "code",
   "execution_count": null,
   "metadata": {
    "collapsed": true
   },
   "outputs": [],
   "source": [
    "'bene_id' in ocol_info.column_name.values"
   ]
  },
  {
   "cell_type": "code",
   "execution_count": null,
   "metadata": {
    "collapsed": true
   },
   "outputs": [],
   "source": [
    "col_groups(ocol_info[ocol_info.is_px], ['_cd', '_vrsn', '_dt'])"
   ]
  },
  {
   "cell_type": "code",
   "execution_count": null,
   "metadata": {
    "collapsed": true
   },
   "outputs": [],
   "source": [
    "oclaims_in[['icd_prcdr_cd1']].drop_duplicates()"
   ]
  },
  {
   "cell_type": "code",
   "execution_count": null,
   "metadata": {
    "collapsed": true
   },
   "outputs": [],
   "source": [
    "x = pd.DataFrame({'prcdr_cd':   '9904 064 99321'.split(),\n",
    "                  'prcdr_vrsn': '   9   9 HCPCS'.split()})\n",
    "x\n",
    "# select px_code('9904', '9') from dual; -- ICD9:99.04\n",
    "# select px_code('064', '9') from dual; -- ICD9:06.4\n",
    "# select px_code('99321', 'HCPCS') from dual; -- CPT:99321"
   ]
  },
  {
   "cell_type": "code",
   "execution_count": null,
   "metadata": {
    "collapsed": true
   },
   "outputs": [],
   "source": [
    "def fmt_px_codes(prcdr_cd: pd.Series, prcdr_vrsn: pd.Series) -> pd.Series:\n",
    "    # TODO: ICDC10??\n",
    "    out = np.where(prcdr_vrsn.isin(['CPT', 'HCPCS']),\n",
    "                   'CPT:' + prcdr_cd,\n",
    "                   'ICD9:')\n",
    "    decimal_pos = np.where(prcdr_vrsn == '9', 2, np.nan)\n",
    "    before = dgns_cd.str.slice(stop=decimal_pos)\n",
    "    after = dgns_cd.str.slice(start=decimal_pos)\n",
    "        scheme = 'ICD' + dgns_vrsn.where(~dgns_vrsn.isnull(), '9')\n",
    "    decimal = np.where(dgns_cd.str.len() > decimal_pos, '.', '')\n",
    "    return scheme + ':' + before + decimal + after"
   ]
  },
  {
   "cell_type": "code",
   "execution_count": null,
   "metadata": {
    "collapsed": true
   },
   "outputs": [],
   "source": [
    "# select px_code('9904', '9') from dual; -- ICD9:99.04\n",
    "# select px_code('064', '9') from dual; -- ICD9:06.4\n",
    "# select px_code('99321', 'HCPCS') from dual; -- CPT:99321\n",
    "def fmt_px_code(prcdr_cd: str, prcdr_vrsn: str) -> str:\n",
    "  return (('CPT:' + prcdr_cd) if prcdr_vrsn in ['CPT', 'HCPCS'] else \n",
    "          ('ICD9:' + prcdr_cd[:2] + '.' + prcdr_cd[2:]) if prcdr_vrsn == '9' else \n",
    "          ('ICD9' + prcdr_vrsn + ':' + prcdr_cd))\n",
    "\n",
    "fmt_px_code('9904', '9'), fmt_px_code('064', '9'), fmt_px_code('99321', 'HCPCS')"
   ]
  },
  {
   "cell_type": "code",
   "execution_count": null,
   "metadata": {
    "collapsed": true
   },
   "outputs": [],
   "source": [
    "from typing import List\n",
    "\n",
    "def px_data(data: pd.DataFrame, table_name, col_info: pd.DataFrame, ix_cols: List[str]) -> pd.DataFrame:\n",
    "    \"\"\"Combine procedure columns i2b2 style\n",
    "    \"\"\"\n",
    "    px_cols = col_groups(col_info[col_info.is_px], ['_cd', '_vrsn', '_dt'])\n",
    "    px_data = obs_stack(data, table_name, px_cols, ix_cols, ['prcdr_cd', 'prcdr_vrsn', 'prcdr_dt'])\n",
    "    px_data['valtype_cd'] = '@'\n",
    "    px_data['concept_cd'] = [fmt_px_code(row.prcdr_cd, row.prcdr_vrsn)\n",
    "                             for _, row in px_data.iterrows()]\n",
    "    return px_data.rename(columns=dict(prcdr_dt='start_date'))\n",
    "\n",
    "if 0:\n",
    "    px_data(oclaims_in[~oclaims_in.icd_prcdr_cd1.isnull()], oc.table_name, ocol_info, oc.ix_cols)"
   ]
  },
  {
   "cell_type": "code",
   "execution_count": null,
   "metadata": {
    "collapsed": true
   },
   "outputs": [],
   "source": [
    "ocol_info[~ ocol_info.is_px  & ~ ocol_info.is_dx].sort_values('valtype_cd')"
   ]
  },
  {
   "cell_type": "markdown",
   "metadata": {},
   "source": [
    "This one is not a diagnosis code:"
   ]
  },
  {
   "cell_type": "code",
   "execution_count": null,
   "metadata": {
    "collapsed": true
   },
   "outputs": [],
   "source": [
    "oclaims_in[['clm_mdcr_non_pmt_rsn_cd']].drop_duplicates()"
   ]
  },
  {
   "cell_type": "code",
   "execution_count": null,
   "metadata": {
    "collapsed": true
   },
   "outputs": [],
   "source": [
    "oclaims_in[['clm_mdcl_rec']].drop_duplicates()"
   ]
  },
  {
   "cell_type": "markdown",
   "metadata": {},
   "source": [
    "Clearly `at_physn_npi` is the one to use:"
   ]
  },
  {
   "cell_type": "markdown",
   "metadata": {},
   "source": [
    "## Performance Results"
   ]
  },
  {
   "cell_type": "code",
   "execution_count": null,
   "metadata": {
    "collapsed": true
   },
   "outputs": [],
   "source": [
    "bulk_migrate = '''\n",
    "insert /*+ parallel(24) append */ into dconnolly.observation_fact\n",
    "select * from dconnolly.observation_fact_2440\n",
    "'''"
   ]
  },
  {
   "cell_type": "code",
   "execution_count": null,
   "metadata": {},
   "outputs": [],
   "source": [
    "with cc.connection() as lc:\n",
    "    lc.execute('truncate table my_plan_table')\n",
    "    print(lc._conn.engine.url.query)\n",
    "    print(pd.read_sql('select count(*) from my_plan_table', lc._conn))\n",
    "    lc._conn.execute('explain plan into my_plan_table for ' + bulk_migrate)\n",
    "    plan = pd.read_sql('select * from my_plan_table', lc._conn)\n",
    "\n",
    "plan"
   ]
  },
  {
   "cell_type": "code",
   "execution_count": null,
   "metadata": {},
   "outputs": [],
   "source": [
    "with cc.connection() as lc:\n",
    "    lc.execute('truncate table my_plan_table')\n",
    "    print(pd.read_sql('select * from my_plan_table', lc._conn))\n",
    "    db = lc._conn.engine\n",
    "    cx = db.dialect.dbapi\n",
    "    dsn = cx.makedsn(db.url.host, db.url.port, db.url.database)\n",
    "    conn = cx.connect(db.url.username, db.url.password, dsn,\n",
    "                      threaded=True, twophase=True)\n",
    "    cur = conn.cursor()\n",
    "    cur.execute('explain plan into my_plan_table for ' + bulk_migrate)\n",
    "    cur.close()\n",
    "    conn.commit()\n",
    "    conn.close()\n",
    "    plan = pd.read_sql('select * from my_plan_table', lc._conn)\n",
    "\n",
    "plan"
   ]
  },
  {
   "cell_type": "code",
   "execution_count": null,
   "metadata": {
    "collapsed": true
   },
   "outputs": [],
   "source": [
    "select /*+ parallel(24) */ max(bene_enrollmt_ref_yr)\n",
    "from cms_deid.mbsf_ab_summary;"
   ]
  },
  {
   "cell_type": "code",
   "execution_count": null,
   "metadata": {
    "collapsed": true
   },
   "outputs": [],
   "source": [
    "select * from upload_status\n",
    "where upload_id >= 2799 -- and message is not null -- 2733\n",
    "order by upload_id desc;\n",
    "-- order by end_date desc;"
   ]
  },
  {
   "cell_type": "code",
   "execution_count": null,
   "metadata": {
    "collapsed": true
   },
   "outputs": [],
   "source": [
    "select load_status, count(*), min(upload_id), max(upload_id), min(load_date), max(end_date)\n",
    "     , to_char(sum(loaded_record), '999,999,999') loaded_record\n",
    "     , round(sum(loaded_record) / 1000 / ((max(end_date) - min(load_date)) * 24 * 60)) krows_min\n",
    "from (\n",
    "  select upload_id, loaded_record, load_status, load_date, end_date, end_date - load_date elapsed\n",
    "  from upload_status\n",
    "  where upload_label like 'MBSFUp%'\n",
    ")\n",
    "group by load_status\n",
    ";"
   ]
  },
  {
   "cell_type": "markdown",
   "metadata": {},
   "source": [
    "## Reimport code into running notebook"
   ]
  },
  {
   "cell_type": "code",
   "execution_count": null,
   "metadata": {},
   "outputs": [],
   "source": [
    "import importlib\n",
    "\n",
    "import cms_pd\n",
    "import cms_etl\n",
    "import etl_tasks\n",
    "import eventlog\n",
    "import script_lib\n",
    "importlib.reload(script_lib)\n",
    "importlib.reload(eventlog)\n",
    "importlib.reload(cms_pd)\n",
    "importlib.reload(cms_etl)\n",
    "importlib.reload(etl_tasks);"
   ]
  }
 ],
 "metadata": {
  "kernelspec": {
   "display_name": "Python 3",
   "language": "python",
   "name": "python3"
  },
  "language_info": {
   "codemirror_mode": {
    "name": "ipython",
    "version": 3
   },
   "file_extension": ".py",
   "mimetype": "text/x-python",
   "name": "python",
   "nbconvert_exporter": "python",
   "pygments_lexer": "ipython3",
   "version": "3.5.2"
  }
 },
 "nbformat": 4,
 "nbformat_minor": 2
}
