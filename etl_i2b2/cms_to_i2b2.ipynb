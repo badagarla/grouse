{
 "cells": [
  {
   "cell_type": "markdown",
   "metadata": {},
   "source": [
    "# Loading Medicare and Medicaid Claims data into i2b2\n",
    "\n",
    "focus is currently on carrier claims\n",
    "\n",
    "(demographics was done in Oracle PL/SQL)\n",
    "\n",
    "so far, we can get data in chunks, map patients and encounters, pivot diagnoses, and insert the result into an observation_fact table (which is missing some constraints).\n"
   ]
  },
  {
   "cell_type": "markdown",
   "metadata": {},
   "source": [
    "## Python Data Science Tools\n",
    "\n",
    "especially [pandas](http://pandas.pydata.org/pandas-docs/)"
   ]
  },
  {
   "cell_type": "code",
   "execution_count": null,
   "metadata": {},
   "outputs": [],
   "source": [
    "import pandas as pd\n",
    "import numpy as np\n",
    "import sqlalchemy as sqla\n",
    "dict(pandas=pd.__version__, numpy=np.__version__, sqlalchemy=sqla.__version__)"
   ]
  },
  {
   "cell_type": "markdown",
   "metadata": {},
   "source": [
    "## Data Access via Luigi Config\n",
    "\n",
    "[luigi docs](https://luigi.readthedocs.io/en/stable/)"
   ]
  },
  {
   "cell_type": "code",
   "execution_count": null,
   "metadata": {},
   "outputs": [],
   "source": [
    "def the_config_file(name='luigi-sgrouse.cfg'):\n",
    "    import pathlib\n",
    "    return pathlib.Path('luigi-sgrouse.cfg')"
   ]
  },
  {
   "cell_type": "code",
   "execution_count": null,
   "metadata": {},
   "outputs": [],
   "source": [
    "import luigi"
   ]
  },
  {
   "cell_type": "code",
   "execution_count": null,
   "metadata": {},
   "outputs": [],
   "source": [
    "def explicit_config(configRd):\n",
    "    cls = luigi.configuration.LuigiConfigParser\n",
    "    cls._instance = None  # KLUDGE\n",
    "    cls._config_paths = [str(configRd)]\n",
    "    return cls.instance()\n",
    "\n",
    "explicit_config(the_config_file())\n",
    "luigi.configuration.LuigiConfigParser.instance()._config_paths"
   ]
  },
  {
   "cell_type": "code",
   "execution_count": null,
   "metadata": {},
   "outputs": [],
   "source": [
    "import importlib\n",
    "\n",
    "import cms_pd\n",
    "import cms_etl\n",
    "import etl_tasks\n",
    "importlib.reload(cms_pd);\n",
    "importlib.reload(cms_etl);\n",
    "importlib.reload(etl_tasks);\n",
    "\n",
    "from etl_tasks import log_plan \n",
    "#from etl_tasks import DBAccessTask, LoggedConnection, SqlScriptTask\n",
    "from cms_etl import FromCMS, CMSExtract\n",
    "from cms_pd import CarrierClaims, dx_stack, fmt_dx_code\n",
    "#from script_lib import Script"
   ]
  },
  {
   "cell_type": "code",
   "execution_count": null,
   "metadata": {},
   "outputs": [],
   "source": [
    "def _fix_password():\n",
    "    from os import environ\n",
    "    from getpass import getpass\n",
    "    environ['DCONNOLLY_SGROUSE'] = getpass()\n",
    "_fix_password()"
   ]
  },
  {
   "cell_type": "code",
   "execution_count": null,
   "metadata": {},
   "outputs": [],
   "source": [
    "import logging\n",
    "# log = logging.getLogger(__name__)\n",
    "\n",
    "cms_rif_task = CMSExtract()\n",
    "log = cms_rif_task._log\n",
    "\n",
    "log.setLevel(logging.DEBUG)\n",
    "ch = logging.StreamHandler()\n",
    "ch.setFormatter(\n",
    "    logging.Formatter(fmt='%(asctime)s %(levelname)s %(name)s: %(message)s',\n",
    "                      datefmt='%02H:%02M:%02S'))\n",
    "log.addHandler(ch)\n",
    "log.info('We try to log non-trivial DB access.')\n",
    "\n",
    "with cms_rif_task.connection() as lc:\n",
    "    lc.log.info('first bene_id')\n",
    "    x = pd.read_sql('select min(bene_id) bene_id_first from %s.%s' % (\n",
    "        cms_rif_task.cms_rif, cms_rif_task.target_table), lc._conn)\n",
    "x\n"
   ]
  },
  {
   "cell_type": "code",
   "execution_count": null,
   "metadata": {},
   "outputs": [],
   "source": [
    "with cms_rif_task.connection() as conn:\n",
    "    bene_chunks = cms_rif_task.id_survey('bcarrier_claims', conn, chunk_qty=10000)\n",
    "    bene_chunks = pd.DataFrame(bene_chunks, columns=bene_chunks[0].keys()).set_index('chunk_num')\n",
    "\n",
    "bene_chunks.head()"
   ]
  },
  {
   "cell_type": "code",
   "execution_count": null,
   "metadata": {},
   "outputs": [],
   "source": [
    "cc = CarrierClaims(bene_id_first=bene_chunks.iloc[0].bene_id_first,\n",
    "                   bene_id_last=bene_chunks.iloc[0].bene_id_last)\n",
    "cc.account, cc.source.cms_rif, cc.project.star_schema"
   ]
  },
  {
   "cell_type": "code",
   "execution_count": null,
   "metadata": {},
   "outputs": [],
   "source": [
    "with cc.connection() as lc:\n",
    "    data = next(cc.chunks(lc, chunk_size=20000))\n",
    "data.info()"
   ]
  },
  {
   "cell_type": "code",
   "execution_count": null,
   "metadata": {},
   "outputs": [],
   "source": [
    "data.head()"
   ]
  },
  {
   "cell_type": "markdown",
   "metadata": {},
   "source": [
    "## Column Info: Level of Measurement"
   ]
  },
  {
   "cell_type": "markdown",
   "metadata": {},
   "source": [
    "Assign [levels of measurement](https://en.wikipedia.org/wiki/Level_of_measurement) based on column info:"
   ]
  },
  {
   "cell_type": "code",
   "execution_count": null,
   "metadata": {},
   "outputs": [],
   "source": [
    "with cc.connection() as lc:\n",
    "    bcarrier_cols = cc.column_info(lc)\n",
    "bcarrier_cols[~ bcarrier_cols.is_dx]"
   ]
  },
  {
   "cell_type": "markdown",
   "metadata": {},
   "source": [
    "## Nominal Data"
   ]
  },
  {
   "cell_type": "code",
   "execution_count": null,
   "metadata": {},
   "outputs": [],
   "source": [
    "nominal_cols = bcarrier_cols[(bcarrier_cols.valtype_cd == '@') &\n",
    "                             ~ bcarrier_cols.is_dx]\n",
    "nominal_cols"
   ]
  },
  {
   "cell_type": "code",
   "execution_count": null,
   "metadata": {},
   "outputs": [],
   "source": [
    "nominal_data = data[cc.key_cols + [n for n in nominal_cols.column_name]].set_index(cc.key_cols)\n",
    "nominal_data.head()"
   ]
  },
  {
   "cell_type": "markdown",
   "metadata": {},
   "source": [
    "### carr_num - coded, not numeric"
   ]
  },
  {
   "cell_type": "markdown",
   "metadata": {},
   "source": [
    "It looks like numeric info, but [carr_num docs](https://www.resdac.org/cms-data/variables/Carrier-Number) say it's a code."
   ]
  },
  {
   "cell_type": "code",
   "execution_count": null,
   "metadata": {},
   "outputs": [],
   "source": [
    "### AMBIENT\n",
    "def resdac_pg(path):\n",
    "    import urllib.request\n",
    "    addr = 'https://www.resdac.org/sites/resdac.umn.edu/' + path\n",
    "    content = urllib.request.urlopen(addr).read()\n",
    "    return content.decode('utf-8')\n",
    "\n",
    "pg = resdac_pg('files/Carrier%20Number-MAC%20Table.txt')\n",
    "len(pg)"
   ]
  },
  {
   "cell_type": "code",
   "execution_count": null,
   "metadata": {},
   "outputs": [],
   "source": [
    "def carr_num_table_line(txt):\n",
    "    code, label = txt.split(' = ', 1)\n",
    "    if '(' in label:\n",
    "        label, note = label.split(' (', 1)\n",
    "        note = '(' + note\n",
    "    else:\n",
    "        note = None\n",
    "    return dict(code=code, label=label, note=note)\n",
    "\n",
    "def carr_num_db(text):\n",
    "    lines = text.split('\\r\\n')\n",
    "    return pd.DataFrame([carr_num_table_line(l)\n",
    "                         for l in lines if ' = ' in l])\n",
    "\n",
    "carr_num_db(pg).head()"
   ]
  },
  {
   "cell_type": "markdown",
   "metadata": {},
   "source": [
    "### Observation facts for nominals (WIP)"
   ]
  },
  {
   "cell_type": "code",
   "execution_count": null,
   "metadata": {},
   "outputs": [],
   "source": [
    "obs_cd = (nominal_data.reset_index().melt(id_vars=cc.key_cols, var_name='column')\n",
    "          .dropna(subset=['value'])\n",
    "          .sort_values(['clm_id', 'column'])\n",
    "          .set_index(cc.key_cols))\n",
    "\n",
    "obs_cd['valtype_cd'] = '@'\n",
    "obs_cd['concept_cd'] = obs_cd.column.str.upper() + ':' + obs_cd.value\n",
    "obs_cd.head(20)"
   ]
  },
  {
   "cell_type": "markdown",
   "metadata": {},
   "source": [
    "### Diagnoses from Carrier Claims"
   ]
  },
  {
   "cell_type": "code",
   "execution_count": null,
   "metadata": {},
   "outputs": [],
   "source": [
    "dx_cols = cc.dx_pairs(bcarrier_cols)\n",
    "dx_cols"
   ]
  },
  {
   "cell_type": "code",
   "execution_count": null,
   "metadata": {},
   "outputs": [],
   "source": [
    "dx_data = cc.dx_data(data, bcarrier_cols)\n",
    "dx_data.sort_values(['clm_id', 'ix']).head(15)"
   ]
  },
  {
   "cell_type": "markdown",
   "metadata": {},
   "source": [
    "## Patient, Encounter Mapping"
   ]
  },
  {
   "cell_type": "code",
   "execution_count": null,
   "metadata": {},
   "outputs": [],
   "source": [
    "dx_data.bene_id.describe()"
   ]
  },
  {
   "cell_type": "code",
   "execution_count": null,
   "metadata": {},
   "outputs": [],
   "source": [
    "with cc.connection() as lc:\n",
    "    mapped = cc.with_mapping(lc, dx_data)\n",
    "mapped.sort_values('start_date').head(15)"
   ]
  },
  {
   "cell_type": "code",
   "execution_count": null,
   "metadata": {},
   "outputs": [],
   "source": [
    "len(mapped)"
   ]
  },
  {
   "cell_type": "code",
   "execution_count": null,
   "metadata": {},
   "outputs": [],
   "source": [
    "clock = cc.source.download_date.__class__.now  #@@"
   ]
  },
  {
   "cell_type": "code",
   "execution_count": null,
   "metadata": {},
   "outputs": [],
   "source": [
    "obs_fact = cc.finish_facts(mapped, upload_id=100, import_date=clock())\n",
    "\n",
    "obs_fact.head()"
   ]
  },
  {
   "cell_type": "code",
   "execution_count": null,
   "metadata": {},
   "outputs": [],
   "source": [
    "with cc.connection() as lc:\n",
    "    obs_fact.head(100).to_sql(name='observation_fact_100', con=lc._conn,\n",
    "                   if_exists='append', index=False)"
   ]
  },
  {
   "cell_type": "code",
   "execution_count": null,
   "metadata": {},
   "outputs": [],
   "source": [
    "with cc.connection() as lc:\n",
    "    for x in cc.obs_data(lc, 100, chunk_size=1000):\n",
    "        pass\n",
    "x"
   ]
  },
  {
   "cell_type": "code",
   "execution_count": null,
   "metadata": {},
   "outputs": [],
   "source": [
    "cc.run()"
   ]
  }
 ],
 "metadata": {
  "kernelspec": {
   "display_name": "Python 3",
   "language": "python",
   "name": "python3"
  },
  "language_info": {
   "codemirror_mode": {
    "name": "ipython",
    "version": 3
   },
   "file_extension": ".py",
   "mimetype": "text/x-python",
   "name": "python",
   "nbconvert_exporter": "python",
   "pygments_lexer": "ipython3",
   "version": "3.5.2"
  }
 },
 "nbformat": 4,
 "nbformat_minor": 2
}
