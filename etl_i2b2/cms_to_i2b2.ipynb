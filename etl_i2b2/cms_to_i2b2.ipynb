{
 "cells": [
  {
   "cell_type": "markdown",
   "metadata": {},
   "source": [
    "# Loading Medicare and Medicaid Claims data into i2b2\n",
    "\n",
    "[CMS RIF][] docs\n",
    "\n",
    "focus is currently on carrier claims\n",
    "\n",
    "(demographics was done in Oracle PL/SQL)\n",
    "\n",
    "so far, we can get data in chunks, map patients and encounters, pivot diagnoses, and insert the result into an observation_fact table (which is missing some constraints).\n",
    "\n",
    "[CMS RIF]: https://www.resdac.org/cms-data/file-availability#research-identifiable-files"
   ]
  },
  {
   "cell_type": "markdown",
   "metadata": {},
   "source": [
    "## Python Data Science Tools\n",
    "\n",
    "especially [pandas](http://pandas.pydata.org/pandas-docs/)"
   ]
  },
  {
   "cell_type": "code",
   "execution_count": null,
   "metadata": {},
   "outputs": [],
   "source": [
    "import pandas as pd\n",
    "import numpy as np\n",
    "import sqlalchemy as sqla\n",
    "dict(pandas=pd.__version__, numpy=np.__version__, sqlalchemy=sqla.__version__)"
   ]
  },
  {
   "cell_type": "markdown",
   "metadata": {},
   "source": [
    "## DB Access: Luigi Config, Logging\n",
    "\n",
    "[luigi docs](https://luigi.readthedocs.io/en/stable/)"
   ]
  },
  {
   "cell_type": "code",
   "execution_count": null,
   "metadata": {
    "collapsed": true
   },
   "outputs": [],
   "source": [
    "# Passwords are expected to be in the environment.\n",
    "# Prompt if it's not already there.\n",
    "    \n",
    "def _fix_password():\n",
    "    from os import environ\n",
    "    import getpass\n",
    "    keyname = getpass.getuser().upper() + '_SGROUSE'\n",
    "    if keyname not in environ:\n",
    "        environ[keyname] = getpass.getpass()\n",
    "_fix_password()"
   ]
  },
  {
   "cell_type": "code",
   "execution_count": null,
   "metadata": {},
   "outputs": [],
   "source": [
    "import luigi\n",
    "\n",
    "\n",
    "def _reset_config(path):\n",
    "    '''Reach into luigi guts and reset the config.\n",
    "    \n",
    "    Don't ask.'''\n",
    "    cls = luigi.configuration.LuigiConfigParser\n",
    "    cls._instance = None  # KLUDGE\n",
    "    cls._config_paths = [path]\n",
    "    return cls.instance()\n",
    "\n",
    "_reset_config('luigi-sgrouse.cfg')\n",
    "luigi.configuration.LuigiConfigParser.instance()._config_paths"
   ]
  },
  {
   "cell_type": "code",
   "execution_count": null,
   "metadata": {},
   "outputs": [],
   "source": [
    "import cx_ora_fix\n",
    "\n",
    "help(cx_ora_fix)"
   ]
  },
  {
   "cell_type": "code",
   "execution_count": null,
   "metadata": {},
   "outputs": [],
   "source": [
    "cx_ora_fix.patch_version()\n",
    "\n",
    "import cx_Oracle as cx\n",
    "dict(cx_Oracle=cx.__version__, version_for_sqlalchemy=cx.version)"
   ]
  },
  {
   "cell_type": "code",
   "execution_count": null,
   "metadata": {
    "collapsed": true
   },
   "outputs": [],
   "source": [
    "import logging\n",
    "\n",
    "concise = logging.Formatter(fmt='%(asctime)s %(levelname)s %(message)s',\n",
    "                            datefmt='%02H:%02M:%02S')\n",
    "\n",
    "def log_to_notebook(log,\n",
    "                    formatter=concise):\n",
    "    log.setLevel(logging.DEBUG)\n",
    "    to_notebook = logging.StreamHandler()\n",
    "    to_notebook.setFormatter(formatter)\n",
    "    log.addHandler(to_notebook)\n",
    "    return log"
   ]
  },
  {
   "cell_type": "code",
   "execution_count": null,
   "metadata": {},
   "outputs": [],
   "source": [
    "from cms_etl import CMSExtract\n",
    "\n",
    "try:\n",
    "    log.info('Already logging to notebook.')\n",
    "except NameError:\n",
    "    cms_rif_task = CMSExtract()\n",
    "    log = log_to_notebook(cms_rif_task._log)\n",
    "\n",
    "    log.info('We try to log non-trivial DB access.')\n",
    "\n",
    "    with cms_rif_task.connection() as lc:\n",
    "        lc.log.info('first bene_id')\n",
    "        first_bene_id = pd.read_sql('select min(bene_id) bene_id_first from %s.%s' % (\n",
    "            cms_rif_task.cms_rif, cms_rif_task.table_eg), lc._conn)\n",
    "\n",
    "first_bene_id"
   ]
  },
  {
   "cell_type": "markdown",
   "metadata": {},
   "source": [
    "## Carrier claims data: breaking work into groups by beneficiary\n",
    "\n",
    "We break down work by ranges of `bene_id`:"
   ]
  },
  {
   "cell_type": "code",
   "execution_count": null,
   "metadata": {},
   "outputs": [],
   "source": [
    "from cms_etl import BeneIdSurvey\n",
    "from cms_pd import CarrierClaimUpload\n",
    "\n",
    "survey = BeneIdSurvey(source_table=CarrierClaimUpload.table_name)\n",
    "survey.script.fname"
   ]
  },
  {
   "cell_type": "code",
   "execution_count": null,
   "metadata": {},
   "outputs": [],
   "source": [
    "bene_chunks = survey.results()\n",
    "bene_chunks = pd.DataFrame(bene_chunks, columns=bene_chunks[0].keys()).set_index('chunk_num')\n",
    "bene_chunks.head()"
   ]
  },
  {
   "cell_type": "code",
   "execution_count": null,
   "metadata": {},
   "outputs": [],
   "source": [
    "len(bene_chunks)"
   ]
  },
  {
   "cell_type": "markdown",
   "metadata": {},
   "source": [
    "Now define a task for the first chunk of beneficiaries:"
   ]
  },
  {
   "cell_type": "code",
   "execution_count": null,
   "metadata": {},
   "outputs": [],
   "source": [
    "cc = CarrierClaimUpload(bene_id_first=bene_chunks.iloc[0].bene_id_first,\n",
    "                        bene_id_last=bene_chunks.iloc[0].bene_id_last)\n",
    "cc.account, cc.source.cms_rif, cc.project.star_schema"
   ]
  },
  {
   "cell_type": "markdown",
   "metadata": {},
   "source": [
    "Within each group, we process the claims a few thousand at a time.\n",
    "\n",
    "_`sqlalchemy` makes a rather verbose query to get the input.\n",
    "Note that we log the execution plan as well._"
   ]
  },
  {
   "cell_type": "code",
   "execution_count": null,
   "metadata": {},
   "outputs": [],
   "source": [
    "with cc.connection() as lc:\n",
    "    cclaims_in = next(cc.chunks(lc, chunk_size=2000))\n",
    "cclaims_in.info()"
   ]
  },
  {
   "cell_type": "code",
   "execution_count": null,
   "metadata": {},
   "outputs": [],
   "source": [
    "cclaims_in.head()"
   ]
  },
  {
   "cell_type": "markdown",
   "metadata": {},
   "source": [
    "## Column Info: Value Type, Level of Measurement"
   ]
  },
  {
   "cell_type": "code",
   "execution_count": null,
   "metadata": {
    "scrolled": true
   },
   "outputs": [],
   "source": [
    "with cc.connection() as lc:\n",
    "    bcarrier_db_cols = cc.column_data(lc)\n",
    "bcarrier_db_cols.head(3).set_index('column_name')[['data_type']]"
   ]
  },
  {
   "cell_type": "markdown",
   "metadata": {},
   "source": [
    "Assign i2b2 value types based on column info:\n",
    "\n",
    "_See also: [levels of measurement][1]._\n",
    "\n",
    "_Diagnosis columns are discussed below._\n",
    "\n",
    "[1]: https://en.wikipedia.org/wiki/Level_of_measurement"
   ]
  },
  {
   "cell_type": "code",
   "execution_count": null,
   "metadata": {},
   "outputs": [],
   "source": [
    "bcarrier_cols = cc.column_properties(bcarrier_db_cols)\n",
    "bcarrier_cols[~ bcarrier_cols.is_dx].sort_values('valtype_cd').set_index('column_name')"
   ]
  },
  {
   "cell_type": "markdown",
   "metadata": {},
   "source": [
    "We did get them all, right?"
   ]
  },
  {
   "cell_type": "code",
   "execution_count": null,
   "metadata": {},
   "outputs": [],
   "source": [
    "bcarrier_cols[~ bcarrier_cols.is_dx &\n",
    "              ~ bcarrier_cols.valtype_cd.isin(['n', 't', '@', 'd']) &\n",
    "              ~ bcarrier_cols.column_name.isin(cc.ix_cols)]"
   ]
  },
  {
   "cell_type": "markdown",
   "metadata": {},
   "source": [
    "## Observation Facts by Value Type"
   ]
  },
  {
   "cell_type": "code",
   "execution_count": null,
   "metadata": {},
   "outputs": [],
   "source": [
    "def rif_modifier(table_name):\n",
    "    return 'CMS_RIF:' + table_name.upper()\n",
    "\n",
    "\n",
    "max_grouped_col_exp = 2  # no more than 100 diagnoses, procedures, etc.\n",
    "\n",
    "def pivot_valtype(data, table_name, col_info, key_cols, valtype,\n",
    "                  spare_instance_digits=max_grouped_col_exp,\n",
    "                  update_dt_col='nch_wkly_proc_dt'):\n",
    "    ty_cols = col_info[col_info.valtype_cd == valtype]\n",
    "    ty_data = data.reset_index()[key_cols + [n for n in ty_cols.column_name]].copy()\n",
    "    ty_data['instance_num'] = ty_data.index * (10 ** spare_instance_digits)\n",
    "    ty_data['modifier_cd'] = rif_modifier(table_name)\n",
    "    obs = ty_data.melt(id_vars=key_cols + ['instance_num', 'modifier_cd'],\n",
    "                       var_name='column').dropna(subset=['value'])\n",
    "    obs['valtype_cd'] = valtype\n",
    "    if valtype == '@':\n",
    "        obs['concept_cd'] = obs.column.str.upper() + ':' + obs.value\n",
    "    else:\n",
    "        obs['concept_cd'] = obs.column.str.upper() + ':'\n",
    "        if valtype == 'n':\n",
    "            obs['nval_num'] = obs.value\n",
    "        elif valtype == 't':\n",
    "            obs['tval_char'] = obs.value\n",
    "        elif valtype == 'd':\n",
    "            obs['tval_char'] = obs.value  # ISSUE: format yyyy-mm-dd...\n",
    "        else:\n",
    "            raise TypeError\n",
    "\n",
    "    if valtype == 'd':\n",
    "        obs['start_date'] = obs['end_date'] = obs.value\n",
    "    else:\n",
    "        obs = obs.rename(\n",
    "            columns=dict(clm_from_dt='start_date',\n",
    "                         clm_thru_dt='end_date'))\n",
    "    return obs.rename(columns={update_dt_col: 'update_date'})"
   ]
  },
  {
   "cell_type": "markdown",
   "metadata": {},
   "source": [
    "### Nominal data (no value type: @)"
   ]
  },
  {
   "cell_type": "code",
   "execution_count": null,
   "metadata": {
    "scrolled": true
   },
   "outputs": [],
   "source": [
    "obs_cd = pivot_valtype(cclaims_in, cc.table_name, bcarrier_cols[~ bcarrier_cols.is_dx], cc.ix_cols, '@')\n",
    "\n",
    "(obs_cd.set_index(['bene_id', 'start_date', 'instance_num', 'modifier_cd'])\n",
    "       .sort_index().head(15)[['valtype_cd', 'concept_cd']])"
   ]
  },
  {
   "cell_type": "markdown",
   "metadata": {},
   "source": [
    "### Ordinal data (text: t)"
   ]
  },
  {
   "cell_type": "code",
   "execution_count": null,
   "metadata": {
    "scrolled": true
   },
   "outputs": [],
   "source": [
    "obs_txt = pivot_valtype(cclaims_in, cc.table_name, bcarrier_cols[~ bcarrier_cols.is_dx], cc.ix_cols, 't')\n",
    "\n",
    "obs_txt.set_index(['bene_id', 'start_date', 'concept_cd', 'instance_num', 'modifier_cd']\n",
    "                  ).sort_index().head(10)[['valtype_cd', 'tval_char']]"
   ]
  },
  {
   "cell_type": "markdown",
   "metadata": {},
   "source": [
    "### Interval data (date: d)"
   ]
  },
  {
   "cell_type": "code",
   "execution_count": null,
   "metadata": {},
   "outputs": [],
   "source": [
    "obs_dt = pivot_valtype(cclaims_in, cc.table_name, bcarrier_cols[~ bcarrier_cols.is_dx], cc.ix_cols, 'd')\n",
    "\n",
    "obs_dt.set_index(['bene_id', 'concept_cd', 'instance_num', 'modifier_cd']\n",
    "                  ).sort_index()[::20].head()[['valtype_cd', 'tval_char', 'start_date']]"
   ]
  },
  {
   "cell_type": "markdown",
   "metadata": {},
   "source": [
    "### Ratio data (numeric: n)"
   ]
  },
  {
   "cell_type": "code",
   "execution_count": null,
   "metadata": {},
   "outputs": [],
   "source": [
    "obs_num = pivot_valtype(cclaims_in, cc.table_name, bcarrier_cols[~ bcarrier_cols.is_dx], cc.ix_cols, 'n')\n",
    "obs_num.set_index(['bene_id', 'start_date', 'concept_cd', 'instance_num', 'modifier_cd']\n",
    "                  ).sort_index().head(10)[['valtype_cd', 'nval_num']]"
   ]
  },
  {
   "cell_type": "code",
   "execution_count": null,
   "metadata": {},
   "outputs": [],
   "source": [
    "(obs_cd.append(obs_num).append(obs_txt).append(obs_dt)\n",
    " .set_index(['bene_id', 'instance_num', 'concept_cd'])  # , 'modifier_cd'\n",
    " .sort_index()\n",
    " .head(30)[\n",
    "    ['start_date', 'valtype_cd', 'nval_num', 'tval_char', 'end_date', 'update_date']])"
   ]
  },
  {
   "cell_type": "markdown",
   "metadata": {},
   "source": [
    "### Diagnoses: combining column groups"
   ]
  },
  {
   "cell_type": "code",
   "execution_count": null,
   "metadata": {},
   "outputs": [],
   "source": [
    "from typing import List\n",
    "\n",
    "def col_groups(col_info: pd.DataFrame,\n",
    "               suffixes: List[str]) -> pd.DataFrame:\n",
    "    out = None\n",
    "    for ix, suffix in enumerate(suffixes):\n",
    "        cols = col_info[ix::len(suffixes)].reset_index()[['column_name']]\n",
    "        if out is None:\n",
    "            out = cols\n",
    "        else:\n",
    "            out = out.merge(cols, left_index=True, right_index=True)\n",
    "    out.columns = ['column_name' + s for s in suffixes]\n",
    "    return out\n",
    "\n",
    "dx_cols = col_groups(bcarrier_cols[bcarrier_cols.is_dx], ['_cd', '_vrsn'])\n",
    "dx_cols"
   ]
  },
  {
   "cell_type": "code",
   "execution_count": null,
   "metadata": {},
   "outputs": [],
   "source": [
    "'PRNCPAL_DGNS_CD'.lower()"
   ]
  },
  {
   "cell_type": "code",
   "execution_count": null,
   "metadata": {
    "scrolled": true
   },
   "outputs": [],
   "source": [
    "from cms_pd import fmt_dx_code\n",
    "\n",
    "max_grouped_col_exp = 2  # no more than 100 diagnoses, procedures, etc.\n",
    "\n",
    "# cf. PRCORNet CDM\n",
    "pdx_flags=pd.DataFrame([dict(primary='1', secondary='2')])\n",
    "\n",
    "\n",
    "def obs_stack(data: pd.DataFrame,\n",
    "              table_name, col_groups: pd.DataFrame, key_cols: List[str],\n",
    "              out_cols: List[str],\n",
    "              pdx='prncpal_dgns_cd') -> pd.DataFrame:\n",
    "    out = None\n",
    "    data = data.reset_index()\n",
    "    for ix, group in col_groups.iterrows():\n",
    "        x_data = data[key_cols + list(group.values)].copy()\n",
    "        instance_num = x_data.index * (10 ** max_grouped_col_exp) + ix\n",
    "        x_data = x_data.set_index(key_cols)\n",
    "        # icd_dgns_cd11 -> icd_dgns_cd\n",
    "        x_data.columns = out_cols\n",
    "        x_data['instance_num'] = instance_num\n",
    "        x_data['modifier_cd'] = pdx_flags.primary[0] if group.values[0] == pdx else rif_modifier(table_name)\n",
    "        x_data = x_data.dropna(subset=[out_cols[0]])\n",
    "        # x_data['ix'] = ix\n",
    "        # x_data['column'] = group.values[0]\n",
    "        if out is None:\n",
    "            out = x_data\n",
    "        else:\n",
    "            out = out.append(x_data)\n",
    "    return out\n",
    "\n",
    "def dx_data(data: pd.DataFrame, table_name, col_info: pd.DataFrame, ix_cols: List[str],\n",
    "            update_dt_col='nch_wkly_proc_dt') -> pd.DataFrame:\n",
    "    \"\"\"Combine diagnosis columns i2b2 style\n",
    "    \"\"\"\n",
    "    dx_cols = col_groups(col_info[col_info.is_dx], ['_cd', '_vrsn'])\n",
    "    df = obs_stack(data, table_name, dx_cols, ix_cols, ['dgns_cd', 'dgns_vrsn'])\n",
    "    df['valtype_cd'] = '@'\n",
    "    df['concept_cd'] = [fmt_dx_code(row.dgns_vrsn, row.dgns_cd)  # TODO: vectorize?\n",
    "                             for _, row in df.iterrows()]\n",
    "    return df.reset_index().rename(\n",
    "            columns={update_dt_col: 'update_date',\n",
    "                     'clm_from_dt': 'start_date',\n",
    "                     'clm_thru_dt': 'end_date'})\n",
    "\n",
    "obs_dx = dx_data(cclaims_in, cc.table_name, bcarrier_cols, cc.ix_cols)\n",
    "obs_dx.set_index(['bene_id', 'start_date', 'instance_num', 'modifier_cd']).sort_index().head(15)"
   ]
  },
  {
   "cell_type": "markdown",
   "metadata": {},
   "source": [
    "## Patient, Encounter Mapping"
   ]
  },
  {
   "cell_type": "code",
   "execution_count": null,
   "metadata": {},
   "outputs": [],
   "source": [
    "from typing import Tuple\n",
    "\n",
    "from cms_pd import read_sql_step, log_plan, LoggedConnection\n",
    "\n",
    "def encounter_mapping(lc: LoggedConnection,\n",
    "                      bene_range: Tuple[int, int],\n",
    "                      source='ccwdata.org',\n",
    "                      debug_plan=True,\n",
    "                      key_cols: str='(MEDPAR_ID)') -> pd.DataFrame:\n",
    "    q = '''select medpar.medpar_id, medpar.bene_id, emap.encounter_num, medpar.admsn_dt, medpar.dschrg_dt\n",
    "    from %(CMS_RIF)s.medpar_all medpar\n",
    "    join %(I2B2STAR)s.encounter_mapping emap on emap.encounter_ide = medpar.medpar_id\n",
    "    where medpar.bene_id between :bene_id_first and :bene_id_last\n",
    "      and emap.patient_ide between :bene_id_first and :bene_id_last\n",
    "      and emap.encounter_ide_source = :encounter_ide_source\n",
    "    ''' % dict(I2B2STAR='DCONNOLLY', #@@self.project.star_schema\n",
    "               CMS_RIF='CMS_DEID'  #self.source.cms_rif\n",
    "              )\n",
    "\n",
    "    params = dict(encounter_ide_source=source + key_cols,\n",
    "                  bene_id_first=bene_range[0],\n",
    "                  bene_id_last=bene_range[1])  # type: Params\n",
    "\n",
    "    if debug_plan:\n",
    "        log_plan(lc, event='patient_mapping', sql=q, params=params)\n",
    "    \n",
    "    return read_sql_step(q, lc, params=params)\n",
    "\n",
    "with cc.connection() as lc:\n",
    "    emap = encounter_mapping(lc, (obs_dx.bene_id.min(), obs_dx.bene_id.max()))\n",
    "emap.head()"
   ]
  },
  {
   "cell_type": "code",
   "execution_count": null,
   "metadata": {},
   "outputs": [],
   "source": [
    "def fmt_patient_day(df: pd.DataFrame) -> pd.Series:\n",
    "    return df.start_date.dt.strftime('%Y-%m-%d') + ' ' + df.bene_id\n",
    "\n",
    "def pat_day_rollup(\n",
    "    data: pd.DataFrame, # with bene_id, start_date, and optionally medpar_id\n",
    "    medpar_mapping: pd.DataFrame):  # with medpar_id, encounter_num) -> pd.DataFrame:\n",
    "\n",
    "    out = data.reset_index().copy()\n",
    "    out['start_day'] = pd.to_datetime(out.start_date, unit='D')\n",
    "    pat_day = out[['bene_id', 'start_day']].drop_duplicates()\n",
    "\n",
    "    # TODO: assert(medpar_mapping is 1-1 from medpar_id to encounter_num)\n",
    "    pat_enc = pat_day.merge(medpar_mapping, on='bene_id', how='left')\n",
    "\n",
    "    pat_enc = pat_enc[(pat_enc.start_day >= pat_enc.admsn_dt) &\n",
    "                      (pat_enc.start_day <= pat_enc.dschrg_dt)]\n",
    "    pat_enc = pat_enc.set_index(['bene_id', 'start_day'])  # [['encounter_num', 'medpar_id']]\n",
    "    pat_enc = pat_enc[~pat_enc.index.duplicated(keep='first')]\n",
    "    out = out.merge(pat_enc, how='left', left_on=['bene_id', 'start_day'], right_index=True)\n",
    "    assert len(out) == len(data)\n",
    "\n",
    "    # @@TODO: replace hash with something portable between Oracle and python\n",
    "    # Note medpar_mapping.sql ensures encounter_num > 0 when assigned to a medpar_id\n",
    "    fallback = - fmt_patient_day(out).apply(hash).abs()\n",
    "    out.encounter_num = out.encounter_num.fillna(fallback)\n",
    "\n",
    "    return out\n",
    "\n",
    "x = pat_day_rollup(obs_dx, emap)\n",
    "(x[(x.encounter_num > 0) | (x.encounter_num % 400 == 0) ][::5]\n",
    "  .reset_index().set_index(['bene_id', 'start_date', 'encounter_num']).sort_index()\n",
    "  .head(15)[['medpar_id', 'start_day', 'admsn_dt', 'dschrg_dt', 'concept_cd']])\n",
    "\n",
    "#x.head(20)\n",
    "#x[~ x.encounter_num.isnull()].head(20)"
   ]
  },
  {
   "cell_type": "code",
   "execution_count": null,
   "metadata": {},
   "outputs": [],
   "source": [
    "'medpar_id' in obs_dx.columns.values"
   ]
  },
  {
   "cell_type": "markdown",
   "metadata": {},
   "source": [
    "## map, finish, write WIP TODO"
   ]
  },
  {
   "cell_type": "code",
   "execution_count": null,
   "metadata": {
    "scrolled": true
   },
   "outputs": [],
   "source": [
    "if 0:\n",
    "    with cc.connection() as lc:\n",
    "        obs_cd_mapped = cc.with_mapping(lc, obs_cd)\n",
    "    obs_cd_mapped.head()"
   ]
  },
  {
   "cell_type": "code",
   "execution_count": null,
   "metadata": {
    "collapsed": true,
    "scrolled": true
   },
   "outputs": [],
   "source": [
    "if 0:\n",
    "    fact1 = cc.finish_facts(obs_cd_mapped, import_date=clock(), upload_id=100)\n",
    "    fact1.head()"
   ]
  },
  {
   "cell_type": "code",
   "execution_count": null,
   "metadata": {
    "collapsed": true
   },
   "outputs": [],
   "source": [
    "if 0:\n",
    "    with cc.connection() as lc:\n",
    "        mapped = cc.with_mapping(lc, dx_data)\n",
    "    mapped.sort_values('start_date').head(15)"
   ]
  },
  {
   "cell_type": "code",
   "execution_count": null,
   "metadata": {
    "collapsed": true
   },
   "outputs": [],
   "source": [
    "if 0:\n",
    "    len(mapped)"
   ]
  },
  {
   "cell_type": "code",
   "execution_count": null,
   "metadata": {
    "collapsed": true
   },
   "outputs": [],
   "source": [
    "if 0:\n",
    "    obs_fact = cc.finish_facts(mapped, upload_id=100, import_date=clock())\n",
    "\n",
    "    obs_fact.head()"
   ]
  },
  {
   "cell_type": "code",
   "execution_count": null,
   "metadata": {
    "collapsed": true
   },
   "outputs": [],
   "source": [
    "if 0:\n",
    "    with cc.connection() as lc:\n",
    "        obs_fact.head(100).to_sql(name='observation_fact_100', con=lc._conn,\n",
    "                       if_exists='append', index=False)"
   ]
  },
  {
   "cell_type": "code",
   "execution_count": null,
   "metadata": {
    "collapsed": true
   },
   "outputs": [],
   "source": [
    "if 0:\n",
    "    with cc.connection() as lc:\n",
    "        for x in cc.obs_data(lc, 100, chunk_size=1000):\n",
    "            break\n",
    "    x.head()"
   ]
  },
  {
   "cell_type": "code",
   "execution_count": null,
   "metadata": {
    "collapsed": true
   },
   "outputs": [],
   "source": [
    "if 0:\n",
    "    cc.run()"
   ]
  },
  {
   "cell_type": "markdown",
   "metadata": {},
   "source": [
    "## Outpatient Claims: Procedures\n",
    "\n",
    "\n",
    "Here we deal with diagnoses as well as procedures."
   ]
  },
  {
   "cell_type": "code",
   "execution_count": null,
   "metadata": {},
   "outputs": [],
   "source": [
    "from cms_pd import OutpatientClaimUpload\n",
    "\n",
    "oc = OutpatientClaimUpload(bene_id_first=bene_chunks.iloc[0].bene_id_first,\n",
    "                        bene_id_last=bene_chunks.iloc[0].bene_id_last)"
   ]
  },
  {
   "cell_type": "code",
   "execution_count": null,
   "metadata": {},
   "outputs": [],
   "source": [
    "with oc.connection() as lc:\n",
    "    chunks = oc.chunks(lc, chunk_size=5000)\n",
    "    while 1:\n",
    "        oclaims_in = next(chunks)\n",
    "        proc_qty = (~oclaims_in.icd_prcdr_cd1.isnull()).sum()\n",
    "        print(\"@@found:\", proc_qty)\n",
    "        if proc_qty > 5:\n",
    "            break\n",
    "    #x = pd.read_sql('select * from cms_deid.OUTPATIENT_BASE_CLAIMS where rownum <= 100', lc._conn)\n",
    "print(len(oclaims_in))\n",
    "oclaims_in.head()"
   ]
  },
  {
   "cell_type": "code",
   "execution_count": null,
   "metadata": {
    "scrolled": false
   },
   "outputs": [],
   "source": [
    "with oc.connection() as lc:\n",
    "    ocol_info = oc.column_properties(oc.column_data(lc))\n",
    "ocol_info[ocol_info.valtype_cd.isnull()]"
   ]
  },
  {
   "cell_type": "code",
   "execution_count": null,
   "metadata": {},
   "outputs": [],
   "source": [
    "'bene_id' in ocol_info.column_name.values"
   ]
  },
  {
   "cell_type": "code",
   "execution_count": null,
   "metadata": {},
   "outputs": [],
   "source": [
    "col_groups(ocol_info[ocol_info.is_px], ['_cd', '_vrsn', '_dt'])"
   ]
  },
  {
   "cell_type": "code",
   "execution_count": null,
   "metadata": {},
   "outputs": [],
   "source": [
    "oclaims_in[['icd_prcdr_cd1']].drop_duplicates()"
   ]
  },
  {
   "cell_type": "code",
   "execution_count": null,
   "metadata": {},
   "outputs": [],
   "source": [
    "# select px_code('9904', '9') from dual; -- ICD9:99.04\n",
    "# select px_code('064', '9') from dual; -- ICD9:06.4\n",
    "# select px_code('99321', 'HCPCS') from dual; -- CPT:99321\n",
    "def fmt_px_code(prcdr_cd: str, prcdr_vrsn: str) -> str:\n",
    "  return (('CPT:' + prcdr_cd) if prcdr_vrsn in ['CPT', 'HCPCS'] else \n",
    "          ('ICD9:' + prcdr_cd[:2] + '.' + prcdr_cd[2:]) if prcdr_vrsn == '9' else \n",
    "          ('ICD9' + prcdr_vrsn + ':' + prcdr_cd))\n",
    "\n",
    "fmt_px_code('9904', '9'), fmt_px_code('064', '9'), fmt_px_code('99321', 'HCPCS')"
   ]
  },
  {
   "cell_type": "code",
   "execution_count": null,
   "metadata": {},
   "outputs": [],
   "source": [
    "def px_data(data: pd.DataFrame, table_name, col_info: pd.DataFrame, ix_cols: List[str]) -> pd.DataFrame:\n",
    "    \"\"\"Combine procedure columns i2b2 style\n",
    "    \"\"\"\n",
    "    px_cols = col_groups(col_info[col_info.is_px], ['_cd', '_vrsn', '_dt'])\n",
    "    px_data = obs_stack(data, table_name, px_cols, ix_cols, ['prcdr_cd', 'prcdr_vrsn', 'prcdr_dt'])\n",
    "    px_data['valtype_cd'] = '@'\n",
    "    px_data['concept_cd'] = [fmt_px_code(row.prcdr_cd, row.prcdr_vrsn)\n",
    "                             for _, row in px_data.iterrows()]\n",
    "    return px_data.rename(columns=dict(prcdr_dt='start_date'))\n",
    "\n",
    "px_data(oclaims_in[~oclaims_in.icd_prcdr_cd1.isnull()], oc.table_name, ocol_info, oc.ix_cols)"
   ]
  },
  {
   "cell_type": "code",
   "execution_count": null,
   "metadata": {
    "scrolled": true
   },
   "outputs": [],
   "source": [
    "ocol_info[~ ocol_info.is_px  & ~ ocol_info.is_dx].sort_values('valtype_cd')"
   ]
  },
  {
   "cell_type": "markdown",
   "metadata": {},
   "source": [
    "This one is not a diagnosis code:"
   ]
  },
  {
   "cell_type": "code",
   "execution_count": null,
   "metadata": {},
   "outputs": [],
   "source": [
    "oclaims_in[['clm_mdcr_non_pmt_rsn_cd']].drop_duplicates()"
   ]
  },
  {
   "cell_type": "code",
   "execution_count": null,
   "metadata": {},
   "outputs": [],
   "source": [
    "oclaims_in[['clm_mdcl_rec']].drop_duplicates()"
   ]
  },
  {
   "cell_type": "markdown",
   "metadata": {},
   "source": [
    "Clearly `at_physn_npi` is the one to use:"
   ]
  },
  {
   "cell_type": "markdown",
   "metadata": {},
   "source": [
    "### TODO: Provider"
   ]
  },
  {
   "cell_type": "code",
   "execution_count": null,
   "metadata": {},
   "outputs": [],
   "source": [
    "oclaims_in.set_index('bene_id', 'clm_from_dt')[['at_physn_npi', 'op_physn_npi', 'ot_physn_npi']].describe()"
   ]
  },
  {
   "cell_type": "markdown",
   "metadata": {},
   "source": [
    "### No provider for carrier_claims???\n",
    "\n",
    "See [missing Carrier Claim Billing NPI Number #8](https://github.com/kumc-bmi/grouse/issues/8):"
   ]
  },
  {
   "cell_type": "code",
   "execution_count": null,
   "metadata": {},
   "outputs": [],
   "source": [
    "'carr_clm_blg_npi_num' in bcarrier_cols.columns.values"
   ]
  },
  {
   "cell_type": "code",
   "execution_count": null,
   "metadata": {
    "collapsed": true
   },
   "outputs": [],
   "source": [
    "# bcarrier_claims:\n",
    "provider = 'PRF_PHYSN_NPI'"
   ]
  },
  {
   "cell_type": "markdown",
   "metadata": {},
   "source": [
    "## Reimport code into running notebook"
   ]
  },
  {
   "cell_type": "code",
   "execution_count": null,
   "metadata": {
    "collapsed": true
   },
   "outputs": [],
   "source": [
    "#@@@\n",
    "from etl_tasks import log_plan\n",
    "from cms_etl import FromCMS, CMSExtract, BeneIdSurvey\n",
    "from cms_pd import CarrierClaimUpload, OutpatientClaimUpload, dx_stack, fmt_dx_code"
   ]
  },
  {
   "cell_type": "code",
   "execution_count": null,
   "metadata": {
    "collapsed": true
   },
   "outputs": [],
   "source": [
    "import importlib\n",
    "\n",
    "import cms_pd\n",
    "import cms_etl\n",
    "import etl_tasks\n",
    "importlib.reload(cms_pd);\n",
    "importlib.reload(cms_etl);\n",
    "importlib.reload(etl_tasks);"
   ]
  }
 ],
 "metadata": {
  "kernelspec": {
   "display_name": "Python 3",
   "language": "python",
   "name": "python3"
  },
  "language_info": {
   "codemirror_mode": {
    "name": "ipython",
    "version": 3
   },
   "file_extension": ".py",
   "mimetype": "text/x-python",
   "name": "python",
   "nbconvert_exporter": "python",
   "pygments_lexer": "ipython3",
   "version": "3.6.1"
  }
 },
 "nbformat": 4,
 "nbformat_minor": 2
}
