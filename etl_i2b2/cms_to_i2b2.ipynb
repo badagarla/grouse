{
 "cells": [
  {
   "cell_type": "markdown",
   "metadata": {},
   "source": [
    "# Loading Medicare and Medicaid Claims data into i2b2\n",
    "\n",
    "focus is currently on carrier claims\n",
    "\n",
    "(demographics was done in Oracle PL/SQL)\n",
    "\n",
    "so far, we can get data in chunks, map patients and encounters, pivot diagnoses, and insert the result into an observation_fact table (which is missing some constraints).\n"
   ]
  },
  {
   "cell_type": "code",
   "execution_count": null,
   "metadata": {},
   "outputs": [],
   "source": [
    "def _fix_password():\n",
    "    from os import environ\n",
    "    import getpass\n",
    "    environ[getpass.getuser().upper() + '_SGROUSE'] = getpass.getpass()\n",
    "_fix_password()"
   ]
  },
  {
   "cell_type": "markdown",
   "metadata": {},
   "source": [
    "## Python Data Science Tools\n",
    "\n",
    "especially [pandas](http://pandas.pydata.org/pandas-docs/)"
   ]
  },
  {
   "cell_type": "code",
   "execution_count": null,
   "metadata": {},
   "outputs": [],
   "source": [
    "import pandas as pd\n",
    "import numpy as np\n",
    "import sqlalchemy as sqla\n",
    "import cx_Oracle as cx\n",
    "dict(pandas=pd.__version__, numpy=np.__version__, sqlalchemy=sqla.__version__, cx_Oracle=cx.__version__)"
   ]
  },
  {
   "cell_type": "markdown",
   "metadata": {},
   "source": [
    "## Data Access via Luigi Config\n",
    "\n",
    "[luigi docs](https://luigi.readthedocs.io/en/stable/)"
   ]
  },
  {
   "cell_type": "code",
   "execution_count": null,
   "metadata": {
    "collapsed": true
   },
   "outputs": [],
   "source": [
    "import luigi"
   ]
  },
  {
   "cell_type": "code",
   "execution_count": null,
   "metadata": {},
   "outputs": [],
   "source": [
    "def the_config_file(name='luigi-sgrouse.cfg'):\n",
    "    import pathlib\n",
    "    return pathlib.Path('luigi-sgrouse.cfg')\n",
    "\n",
    "def explicit_config(configRd):\n",
    "    cls = luigi.configuration.LuigiConfigParser\n",
    "    cls._instance = None  # KLUDGE\n",
    "    cls._config_paths = [str(configRd)]\n",
    "    return cls.instance()\n",
    "\n",
    "explicit_config(the_config_file())\n",
    "luigi.configuration.LuigiConfigParser.instance()._config_paths"
   ]
  },
  {
   "cell_type": "code",
   "execution_count": null,
   "metadata": {
    "collapsed": true
   },
   "outputs": [],
   "source": [
    "import importlib\n",
    "\n",
    "import cms_pd\n",
    "import cms_etl\n",
    "import etl_tasks\n",
    "importlib.reload(cms_pd);\n",
    "importlib.reload(cms_etl);\n",
    "importlib.reload(etl_tasks);\n",
    "importlib.reload(cx);\n",
    "\n",
    "from etl_tasks import log_plan \n",
    "#from etl_tasks import DBAccessTask, LoggedConnection, SqlScriptTask\n",
    "from cms_etl import FromCMS, CMSExtract\n",
    "from cms_pd import CarrierClaims, dx_stack, fmt_dx_code\n",
    "#from script_lib import Script"
   ]
  },
  {
   "cell_type": "code",
   "execution_count": null,
   "metadata": {
    "collapsed": true
   },
   "outputs": [],
   "source": [
    "# kludge to avoid...\n",
    "# ValueError: invalid literal for int() with base 10: '0b2'\n",
    "# .../sqlalchemy/dialects/oracle/cx_oracle.py in <listcomp>(.0)\n",
    "#    707 \n",
    "#    708         if hasattr(self.dbapi, 'version'):\n",
    "#--> 709             self.cx_oracle_ver = tuple([int(x) for x in\n",
    "#    710                                         self.dbapi.version.split('.')])\n",
    "\n",
    "cx.version = cx.version.replace('b2', '')  "
   ]
  },
  {
   "cell_type": "code",
   "execution_count": null,
   "metadata": {},
   "outputs": [],
   "source": [
    "import logging\n",
    "# log = logging.getLogger(__name__)\n",
    "\n",
    "cms_rif_task = CMSExtract()\n",
    "log = cms_rif_task._log\n",
    "\n",
    "log.setLevel(logging.DEBUG)\n",
    "ch = logging.StreamHandler()\n",
    "ch.setFormatter(\n",
    "    logging.Formatter(fmt='%(asctime)s %(levelname)s %(name)s: %(message)s',\n",
    "                      datefmt='%02H:%02M:%02S'))\n",
    "log.addHandler(ch)\n",
    "log.info('We try to log non-trivial DB access.')\n",
    "\n",
    "with cms_rif_task.connection() as lc:\n",
    "    lc.log.info('first bene_id')\n",
    "    x = pd.read_sql('select min(bene_id) bene_id_first from %s.%s' % (\n",
    "        cms_rif_task.cms_rif, cms_rif_task.target_table), lc._conn)\n",
    "x\n"
   ]
  },
  {
   "cell_type": "code",
   "execution_count": null,
   "metadata": {},
   "outputs": [],
   "source": [
    "with cms_rif_task.connection() as conn:\n",
    "    bene_chunks = cms_rif_task.id_survey('bcarrier_claims', conn, chunk_qty=128)\n",
    "    bene_chunks = pd.DataFrame(bene_chunks, columns=bene_chunks[0].keys()).set_index('chunk_num')\n",
    "\n",
    "bene_chunks.head()"
   ]
  },
  {
   "cell_type": "code",
   "execution_count": null,
   "metadata": {},
   "outputs": [],
   "source": [
    "cc = CarrierClaims(bene_id_first=bene_chunks.iloc[0].bene_id_first,\n",
    "                   bene_id_last=bene_chunks.iloc[0].bene_id_last)\n",
    "cc.account, cc.source.cms_rif, cc.project.star_schema"
   ]
  },
  {
   "cell_type": "code",
   "execution_count": null,
   "metadata": {},
   "outputs": [],
   "source": [
    "with cc.connection() as lc:\n",
    "    data = next(cc.chunks(lc, chunk_size=2000))\n",
    "data.info()"
   ]
  },
  {
   "cell_type": "code",
   "execution_count": null,
   "metadata": {},
   "outputs": [],
   "source": [
    "data.head()"
   ]
  },
  {
   "cell_type": "markdown",
   "metadata": {},
   "source": [
    "## Column Info: Level of Measurement"
   ]
  },
  {
   "cell_type": "markdown",
   "metadata": {},
   "source": [
    "Assign [levels of measurement](https://en.wikipedia.org/wiki/Level_of_measurement) based on column info:"
   ]
  },
  {
   "cell_type": "code",
   "execution_count": null,
   "metadata": {},
   "outputs": [],
   "source": [
    "with cc.connection() as lc:\n",
    "    bcarrier_cols = cc.column_info(lc)\n",
    "bcarrier_cols[~ bcarrier_cols.is_dx]"
   ]
  },
  {
   "cell_type": "markdown",
   "metadata": {},
   "source": [
    "## Nominal Data"
   ]
  },
  {
   "cell_type": "code",
   "execution_count": null,
   "metadata": {
    "collapsed": true
   },
   "outputs": [],
   "source": [
    "clock = cc.source.download_date.__class__.now  #@@"
   ]
  },
  {
   "cell_type": "code",
   "execution_count": null,
   "metadata": {},
   "outputs": [],
   "source": [
    "nominal_cols = bcarrier_cols[(bcarrier_cols.valtype_cd == '@') &\n",
    "                             ~ bcarrier_cols.is_dx]\n",
    "nominal_cols"
   ]
  },
  {
   "cell_type": "code",
   "execution_count": null,
   "metadata": {},
   "outputs": [],
   "source": [
    "nominal_data = data[cc.key_cols + [n for n in nominal_cols.column_name]].set_index(cc.key_cols)\n",
    "nominal_data.head()"
   ]
  },
  {
   "cell_type": "markdown",
   "metadata": {},
   "source": [
    "### Observation facts for nominals (WIP)"
   ]
  },
  {
   "cell_type": "code",
   "execution_count": null,
   "metadata": {},
   "outputs": [],
   "source": [
    "def nominal_obs_facts(data, col_info, key_cols):\n",
    "    nominal_cols = col_info[col_info.valtype_cd == '@']\n",
    "    nominal_data = data[key_cols + [n for n in nominal_cols.column_name]]\n",
    "    obs = nominal_data.melt(id_vars=key_cols, var_name='column').dropna(subset=['value'])\n",
    "    obs['valtype_cd'] = '@'\n",
    "    obs['concept_cd'] = obs.column.str.upper() + ':' + obs.value\n",
    "    # factor medpar_id, rename out of dx_data()\n",
    "    obs['medpar_id'] = np.nan\n",
    "    return obs.rename(\n",
    "            columns=dict(clm_from_dt='start_date',\n",
    "                         clm_thru_dt='end_date',\n",
    "                         nch_wkly_proc_dt='update_date'))\n",
    "\n",
    "obs_cd = nominal_obs_facts(data, bcarrier_cols[~ bcarrier_cols.is_dx], cc.key_cols)\n",
    "obs_cd.sort_values(['clm_id', 'column']).head()"
   ]
  },
  {
   "cell_type": "code",
   "execution_count": null,
   "metadata": {},
   "outputs": [],
   "source": [
    "with cc.connection() as lc:\n",
    "    obs_cd_mapped = cc.with_mapping(lc, obs_cd)\n",
    "obs_cd_mapped.head()"
   ]
  },
  {
   "cell_type": "code",
   "execution_count": null,
   "metadata": {},
   "outputs": [],
   "source": [
    "fact1 = cc.finish_facts(obs_cd_mapped, import_date=clock(), upload_id=100)\n",
    "fact1.head()"
   ]
  },
  {
   "cell_type": "markdown",
   "metadata": {},
   "source": [
    "### Diagnoses from Carrier Claims"
   ]
  },
  {
   "cell_type": "code",
   "execution_count": null,
   "metadata": {
    "collapsed": true
   },
   "outputs": [],
   "source": [
    "dx_cols = cc.dx_pairs(bcarrier_cols)\n",
    "dx_cols"
   ]
  },
  {
   "cell_type": "code",
   "execution_count": null,
   "metadata": {
    "collapsed": true
   },
   "outputs": [],
   "source": [
    "dx_data = cc.dx_data(data, bcarrier_cols)\n",
    "dx_data.sort_values(['clm_id', 'ix']).head(15)"
   ]
  },
  {
   "cell_type": "markdown",
   "metadata": {},
   "source": [
    "## Patient, Encounter Mapping"
   ]
  },
  {
   "cell_type": "code",
   "execution_count": null,
   "metadata": {
    "collapsed": true
   },
   "outputs": [],
   "source": [
    "dx_data.bene_id.describe()"
   ]
  },
  {
   "cell_type": "code",
   "execution_count": null,
   "metadata": {
    "collapsed": true
   },
   "outputs": [],
   "source": [
    "with cc.connection() as lc:\n",
    "    mapped = cc.with_mapping(lc, dx_data)\n",
    "mapped.sort_values('start_date').head(15)"
   ]
  },
  {
   "cell_type": "code",
   "execution_count": null,
   "metadata": {
    "collapsed": true
   },
   "outputs": [],
   "source": [
    "len(mapped)"
   ]
  },
  {
   "cell_type": "code",
   "execution_count": null,
   "metadata": {
    "collapsed": true
   },
   "outputs": [],
   "source": [
    "obs_fact = cc.finish_facts(mapped, upload_id=100, import_date=clock())\n",
    "\n",
    "obs_fact.head()"
   ]
  },
  {
   "cell_type": "code",
   "execution_count": null,
   "metadata": {
    "collapsed": true
   },
   "outputs": [],
   "source": [
    "with cc.connection() as lc:\n",
    "    obs_fact.head(100).to_sql(name='observation_fact_100', con=lc._conn,\n",
    "                   if_exists='append', index=False)"
   ]
  },
  {
   "cell_type": "code",
   "execution_count": null,
   "metadata": {
    "collapsed": true
   },
   "outputs": [],
   "source": [
    "with cc.connection() as lc:\n",
    "    for x in cc.obs_data(lc, 100, chunk_size=1000):\n",
    "        break\n",
    "x.head()"
   ]
  },
  {
   "cell_type": "code",
   "execution_count": null,
   "metadata": {
    "collapsed": true
   },
   "outputs": [],
   "source": [
    "cc.run()"
   ]
  }
 ],
 "metadata": {
  "kernelspec": {
   "display_name": "Python 3",
   "language": "python",
   "name": "python3"
  },
  "language_info": {
   "codemirror_mode": {
    "name": "ipython",
    "version": 3
   },
   "file_extension": ".py",
   "mimetype": "text/x-python",
   "name": "python",
   "nbconvert_exporter": "python",
   "pygments_lexer": "ipython3",
   "version": "3.6.1"
  }
 },
 "nbformat": 4,
 "nbformat_minor": 2
}
