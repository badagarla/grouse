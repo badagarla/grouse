{
 "cells": [
  {
   "cell_type": "markdown",
   "metadata": {},
   "source": [
    "# CMS to PCORNet Terminology Mapping\n",
    "\n",
    "The naive code building approach in `cms_pd.CMSRIFUpload.pivot_valtype`  also results in demographic codes such as `BENE_SEX_IDENT_CD:2` for @@ and `BENE_RACE_CD:1` for @@ where [PCORNet CDM](http://www.pcornet.org/pcornet-common-data-model/) uses @@...\n",
    "\n",
    "\n",
    "[Data Dictionaries - Chronic Conditions Data Warehouse](https://www.ccwdata.org/web/guest/data-dictionaries)\n"
   ]
  },
  {
   "cell_type": "code",
   "execution_count": null,
   "metadata": {},
   "outputs": [],
   "source": [
    "from cms_code_table import Cache\n",
    "\n",
    "\n",
    "class CMSDataDictionaries(Cache):\n",
    "    [mbsf_abcd] = [\n",
    "        ('Master Beneficiary Summary - Base (A/B/C/D) Codebook',\n",
    "         'https://www.ccwdata.org/documents/10280/19022436/codebook-mbsf-abcd.pdf',\n",
    "         '2f7fce7c849e011d125a8487833e6cdd4ca7ced7')\n",
    "    ]\n",
    "\n",
    "\n",
    "class PCORNetCDM(Cache):\n",
    "    [v3dot1] = [\n",
    "        ('PCORnet Common Data Model v3.1 Parseable Spreadsheet Format',\n",
    "         'http://www.pcornet.org/wp-content/uploads/2017/01/2017-01-06-PCORnet-Common-Data-Model-v3dot1-parseable.xlsx',\n",
    "         'f085b975ec5e59bef3bf505aaa3107e3f4e12e4c')\n",
    "    ]\n",
    "\n",
    "\n",
    "def _mk_caches(cache_dir_name='cache'):\n",
    "    from pathlib import Path\n",
    "    from urllib.request import build_opener\n",
    "\n",
    "    web_ua = build_opener()\n",
    "    cache_dir = Path(cache_dir_name)\n",
    "    cms = CMSDataDictionaries(cache_dir, web_ua)\n",
    "    cdm = PCORNetCDM(cache_dir, web_ua)\n",
    "    return cms, cdm\n",
    "\n",
    "cms_cache, cdm_cache = _mk_caches()\n",
    "[mbsf_abcd_codebook, pcornet_cdm_v3dot1] = [\n",
    "    cms_cache[cms_cache.mbsf_abcd], cdm_cache[cdm_cache.v3dot1]]\n",
    "\n",
    "[mbsf_abcd_codebook, pcornet_cdm_v3dot1]"
   ]
  },
  {
   "cell_type": "markdown",
   "metadata": {},
   "source": [
    "Then convert to text using [poppler](http://poppler.freedesktop.org/) tools...\n",
    "\n",
    "    Package: poppler-utils\n",
    "    Original-Maintainer: Loic Minier <lool@dooz.org>\n",
    "    Architecture: amd64\n",
    "    Version: 0.41.0-0ubuntu1\n",
    "    Size: 130156\n",
    "    SHA1: 03e35d9c79455b01cffcbc635219bdb665067740\n",
    "    SHA256: 995e6af26b24f539df466df997dce3f391b9698097d6c2e691857eb88ce746b8\n",
    "    Description-en: PDF utilities (based on Poppler)\n",
    "    Homepage: http://poppler.freedesktop.org/"
   ]
  },
  {
   "cell_type": "code",
   "execution_count": null,
   "metadata": {
    "collapsed": true
   },
   "outputs": [],
   "source": [
    "!pdftotext -layout cache/codebook-mbsf-abcd.pdf"
   ]
  },
  {
   "cell_type": "code",
   "execution_count": null,
   "metadata": {},
   "outputs": [],
   "source": [
    "import pandas as pd\n",
    "dict(pandas=pd.__version__)"
   ]
  },
  {
   "cell_type": "code",
   "execution_count": null,
   "metadata": {},
   "outputs": [],
   "source": [
    "mbsf_abcd_codebook.with_suffix('.txt')"
   ]
  },
  {
   "cell_type": "code",
   "execution_count": null,
   "metadata": {},
   "outputs": [],
   "source": [
    "codebook_text = pd.DataFrame({\n",
    "    'line': [line.strip('\\f\\n') for line in\n",
    "             mbsf_abcd_codebook.with_suffix('.txt').open().readlines()]})\n",
    "codebook_text[:3]"
   ]
  },
  {
   "cell_type": "code",
   "execution_count": null,
   "metadata": {},
   "outputs": [],
   "source": [
    "toc_dots = codebook_text.line.str.match(r'.*\\.\\.\\.')\n",
    "codebook_text[toc_dots].iloc[-2:]"
   ]
  },
  {
   "cell_type": "code",
   "execution_count": null,
   "metadata": {},
   "outputs": [],
   "source": [
    "codebook_text.iloc[232]"
   ]
  },
  {
   "cell_type": "code",
   "execution_count": null,
   "metadata": {},
   "outputs": [],
   "source": [
    "is_footer = pd.Series(False, index=codebook_text.index)\n",
    "for footer_pattern in [\n",
    "    r'^\\s+\\^ Back to TOC \\^',\n",
    "    r'^CMS Chronic Conditions Data Warehouse \\(CCW\\)',\n",
    "    r'^Master Beneficiary Summary File \\(MBSF\\) with',\n",
    "    r'^May 2017 – Version 1.0  \\s*  Page \\d+ of \\d+$']:\n",
    "    is_footer = is_footer | codebook_text.line.str.match(footer_pattern) \n",
    "\n",
    "codebook_text[is_footer].head(10)"
   ]
  },
  {
   "cell_type": "code",
   "execution_count": null,
   "metadata": {
    "collapsed": true
   },
   "outputs": [],
   "source": [
    "codebook_text['is_body'] = ~is_footer & (codebook_text.index > toc_dots[toc_dots].index.max())"
   ]
  },
  {
   "cell_type": "code",
   "execution_count": null,
   "metadata": {},
   "outputs": [],
   "source": [
    "codebook_text['variable'] = codebook_text.line.str.extract(r'^   \\s*([A-Z_0-9]+)$', expand=False)\n",
    "\n",
    "def extract_lhs_rhs(line):\n",
    "    \"\"\"\n",
    "    e.g. SHORT NAME: B_MO_CNT\n",
    "    also rhs with empty lhs from comment, description\n",
    "    \"\"\"\n",
    "    return line.str.extract(\n",
    "         r'^(?:(?P<lhs>[A-Z ]+):\\s+|            \\s*)(?P<rhs>\\S.*)', expand=True)\n",
    "\n",
    "def extract_valuesets(line):\n",
    "    return line.str.extract(\n",
    "        r' (?P<valueset_item>\\S+) = (?P<valueset_item_descriptor>.*)', expand=True)\n",
    "\n",
    "\n",
    "codebook = pd.concat([codebook_text,\n",
    "                      extract_lhs_rhs(codebook_text.line),\n",
    "                      extract_valuesets(codebook_text.line)], axis=1)\n",
    "\n",
    "codebook.loc[~codebook.variable.isnull(), 'lhs'] = 'variable'\n",
    "codebook.lhs = codebook.lhs.fillna(method='pad')\n",
    "codebook.variable = codebook.variable.fillna(method='pad')\n",
    "\n",
    "\n",
    "\n",
    "def para_agg(df, text_cols, index, columns, values,\n",
    "             sep='\\n'):\n",
    "    return (\n",
    "        df[df.lhs.isin(text_cols)]\n",
    "        .groupby([index, columns])[values]\n",
    "        .apply(lambda values: sep.join(values))\n",
    "        .reset_index()\n",
    "        .pivot(index=index, columns=columns, values=values))\n",
    "\n",
    "# &           ~codebook.lhs.isin(['variable', 'VALUES', 'CODE VALUES']                                    \n",
    "#para_agg(codebook, ['COMMENT', 'DESCRIPTION'], 'variable', 'lhs', 'rhs')\n",
    "# VALUES: 0-12 @@\n",
    "\n",
    "codebook = codebook[codebook.is_body & (codebook.line > '')]\n",
    "#codebook = codebook.pivot(index='variable', values='rhs', columns='lhs')\n",
    "codebook_values = codebook[~codebook.valueset_item.isnull()][['variable', 'valueset_item', 'valueset_item_descriptor']]\n",
    "#codebook_values.head(30)\n",
    "\n",
    "def find_pivot_dups(df, index, columns, values):\n",
    "    x = df.groupby([index, columns])[[values]].count()\n",
    "    return x[x[values] > 1]\n",
    "\n",
    "codebook_variables = pd.concat(\n",
    "    [codebook[~codebook.lhs.isin(['variable', 'COMMENT', 'DESCRIPTION', 'VALUES', 'CODE VALUES'])\n",
    "             ].pivot(index='variable', columns='lhs', values='rhs'),\n",
    "     para_agg(codebook, ['COMMENT', 'DESCRIPTION'], 'variable', 'lhs', 'rhs')], axis=1)\n",
    "codebook_variables.head()"
   ]
  },
  {
   "cell_type": "code",
   "execution_count": null,
   "metadata": {},
   "outputs": [],
   "source": [
    "codebook_values[codebook_values.variable == 'SEX']"
   ]
  },
  {
   "cell_type": "markdown",
   "metadata": {},
   "source": [
    "## More @@@"
   ]
  },
  {
   "cell_type": "code",
   "execution_count": null,
   "metadata": {},
   "outputs": [],
   "source": [
    "pcornet_cdm = pd.read_excel(str(pcornet_cdm_v3dot1), sheetname=None)"
   ]
  },
  {
   "cell_type": "code",
   "execution_count": null,
   "metadata": {},
   "outputs": [],
   "source": [
    "pcornet_cdm.keys()"
   ]
  },
  {
   "cell_type": "code",
   "execution_count": null,
   "metadata": {},
   "outputs": [],
   "source": [
    "pcornet_value = pcornet_cdm['VALUESETS']\n",
    "pcornet_value[pcornet_value.FIELD_NAME == 'SEX']"
   ]
  }
 ],
 "metadata": {
  "kernelspec": {
   "display_name": "Python 3",
   "language": "python",
   "name": "python3"
  },
  "language_info": {
   "codemirror_mode": {
    "name": "ipython",
    "version": 3
   },
   "file_extension": ".py",
   "mimetype": "text/x-python",
   "name": "python",
   "nbconvert_exporter": "python",
   "pygments_lexer": "ipython3",
   "version": "3.5.2"
  }
 },
 "nbformat": 4,
 "nbformat_minor": 2
}
