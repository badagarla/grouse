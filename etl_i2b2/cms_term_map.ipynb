{
 "cells": [
  {
   "cell_type": "markdown",
   "metadata": {},
   "source": [
    "# CMS to PCORNet Terminology Mapping\n",
    "\n",
    "The naive code building approach in `cms_pd.CMSRIFUpload.pivot_valtype` results in\n",
    "demographic codes from such as\n",
    "\n",
    " - `BENE_SEX_IDENT_CD:2` for Female and\n",
    " - `BENE_RACE_CD:1` for White\n",
    "\n",
    "The codes come from\n",
    "[Data Dictionaries - Chronic Conditions Data Warehouse](https://www.ccwdata.org/web/guest/data-dictionaries).\n",
    "\n",
    "On the other hand, the GROUSE i2b2 uses and ontology based on\n",
    "[PCORNet CDM](http://www.pcornet.org/pcornet-common-data-model/), which uses\n",
    "\n",
    " - F=Female\n",
    " - 05=White"
   ]
  },
  {
   "cell_type": "markdown",
   "metadata": {},
   "source": [
    "## PCORNet \"parseable\" Common Data Model\n",
    "\n",
    "The codes from the PCORNet are published in a nice tidy spreadsheet:"
   ]
  },
  {
   "cell_type": "code",
   "execution_count": null,
   "metadata": {},
   "outputs": [],
   "source": [
    "import pandas as pd\n",
    "dict(pandas=pd.__version__)"
   ]
  },
  {
   "cell_type": "code",
   "execution_count": null,
   "metadata": {},
   "outputs": [],
   "source": [
    "from pathlib import Path\n",
    "from urllib.request import build_opener as build_web_access\n",
    "\n",
    "from cms_code_table import Cache\n",
    "\n",
    "\n",
    "class PCORNetCDM(Cache):\n",
    "    [v3dot1] = [\n",
    "        ('PCORnet Common Data Model v3.1 Parseable Spreadsheet Format',\n",
    "         'http://www.pcornet.org/wp-content/uploads/2017/01/2017-01-06-PCORnet-Common-Data-Model-v3dot1-parseable.xlsx',\n",
    "         'f085b975ec5e59bef3bf505aaa3107e3f4e12e4c')\n",
    "    ]\n",
    "cdm_cache = PCORNetCDM.make(Path('cache'), build_web_access())\n",
    "\n",
    "pcornet_cdm = pd.read_excel(str(cdm_cache[cdm_cache.v3dot1]), sheetname=None)\n",
    "\n",
    "pcornet_cdm.keys()"
   ]
  },
  {
   "cell_type": "code",
   "execution_count": null,
   "metadata": {
    "scrolled": true
   },
   "outputs": [],
   "source": [
    "pcornet_value = pcornet_cdm['VALUESETS'].rename(\n",
    "    columns={n: n.lower() for n in pcornet_cdm['VALUESETS'].columns})\n",
    "pcornet_value[pcornet_value.field_name.isin(['SEX', 'RACE'])]"
   ]
  },
  {
   "cell_type": "code",
   "execution_count": null,
   "metadata": {
    "collapsed": true
   },
   "outputs": [],
   "source": [
    "pcornet_value['descriptor'] = pcornet_value.valueset_item_descriptor.str.replace('[^=]+=', '')"
   ]
  },
  {
   "cell_type": "markdown",
   "metadata": {},
   "source": [
    "## CMS Data Dictionaries\n",
    "\n",
    "The data dictionaries from CMS are published in PDF, so recovering the structure is a bit more involved:"
   ]
  },
  {
   "cell_type": "code",
   "execution_count": null,
   "metadata": {},
   "outputs": [],
   "source": [
    "from cms_code_table import Cache\n",
    "\n",
    "\n",
    "class CMSDataDictionaries(Cache):\n",
    "    [mbsf_abcd] = [\n",
    "        ('Master Beneficiary Summary - Base (A/B/C/D) Codebook',\n",
    "         'https://www.ccwdata.org/documents/10280/19022436/codebook-mbsf-abcd.pdf',\n",
    "         '2f7fce7c849e011d125a8487833e6cdd4ca7ced7')\n",
    "    ]\n",
    "cms_cache = CMSDataDictionaries.make(Path('cache'), build_web_access())\n",
    "mbsf_abcd_codebook = cms_cache[cms_cache.mbsf_abcd]\n",
    "mbsf_abcd_codebook"
   ]
  },
  {
   "cell_type": "markdown",
   "metadata": {},
   "source": [
    "Then convert to text using [poppler](http://poppler.freedesktop.org/) tools..."
   ]
  },
  {
   "cell_type": "code",
   "execution_count": null,
   "metadata": {},
   "outputs": [],
   "source": [
    "!pdftotext -layout cache/codebook-mbsf-abcd.pdf\n",
    "\n",
    "# Package: poppler-utils\n",
    "# Original-Maintainer: Loic Minier <lool@dooz.org>\n",
    "# Architecture: amd64\n",
    "# Version: 0.41.0-0ubuntu1\n",
    "# SHA1: 03e35d9c79455b01cffcbc635219bdb665067740\n",
    "# Description-en: PDF utilities (based on Poppler)\n",
    "\n",
    "codebook_text = pd.DataFrame({\n",
    "    'line': [line.strip('\\f\\n') for line in\n",
    "             mbsf_abcd_codebook.with_suffix('.txt').open().readlines()]})\n",
    "codebook_text[:3]"
   ]
  },
  {
   "cell_type": "markdown",
   "metadata": {},
   "source": [
    "Now let's prune the TOC and page footers, leaving just the body:"
   ]
  },
  {
   "cell_type": "code",
   "execution_count": null,
   "metadata": {},
   "outputs": [],
   "source": [
    "toc_dots = codebook_text.line.str.match(r'.*\\.\\.\\.')\n",
    "codebook_text[toc_dots].iloc[-2:]"
   ]
  },
  {
   "cell_type": "code",
   "execution_count": null,
   "metadata": {},
   "outputs": [],
   "source": [
    "is_footer = pd.Series(False, index=codebook_text.index)\n",
    "for footer_pattern in [\n",
    "    r'^\\s+\\^ Back to TOC \\^',\n",
    "    r'^CMS Chronic Conditions Data Warehouse \\(CCW\\)',\n",
    "    r'^Master Beneficiary Summary File \\(MBSF\\) with',\n",
    "    r'^May 2017 – Version 1.0  \\s*  Page \\d+ of \\d+$']:\n",
    "    is_footer = is_footer | codebook_text.line.str.match(footer_pattern) \n",
    "\n",
    "codebook_text[is_footer][1:7]"
   ]
  },
  {
   "cell_type": "code",
   "execution_count": null,
   "metadata": {},
   "outputs": [],
   "source": [
    "codebook_text['is_body'] = ~is_footer & (codebook_text.index > toc_dots[toc_dots].index.max())\n",
    "codebook_text[codebook_text.is_body & (codebook_text.line > '')].head()"
   ]
  },
  {
   "cell_type": "markdown",
   "metadata": {},
   "source": [
    "There's a section for each variable:"
   ]
  },
  {
   "cell_type": "code",
   "execution_count": null,
   "metadata": {},
   "outputs": [],
   "source": [
    "codebook_text['variable'] = codebook_text.line.str.extract(r'^   \\s*([A-Z_0-9]+)$', expand=False)\n",
    "codebook_text.loc[~codebook_text.is_body, 'variable'] = None\n",
    "codebook_text[codebook_text.line.str.strip() == codebook_text.variable].head()"
   ]
  },
  {
   "cell_type": "markdown",
   "metadata": {},
   "source": [
    "The data dictionary describes each variable and nominal value:"
   ]
  },
  {
   "cell_type": "code",
   "execution_count": null,
   "metadata": {
    "scrolled": true
   },
   "outputs": [],
   "source": [
    "def extract_lhs_rhs(line):\n",
    "    \"\"\"\n",
    "    e.g. SHORT NAME: B_MO_CNT\n",
    "    also rhs with empty lhs from comment, description\n",
    "    \"\"\"\n",
    "    return line.str.extract(\n",
    "         r'^(?:(?P<lhs>[A-Z ]+):\\s+|            \\s*)(?P<rhs>\\S.*)', expand=True)\n",
    "\n",
    "def extract_valuesets(line):\n",
    "    return line.str.extract(\n",
    "        r' (?P<valueset_item>\\S+) = (?P<descriptor>.*)', expand=True)\n",
    "\n",
    "\n",
    "codebook = pd.concat([codebook_text,\n",
    "                      extract_lhs_rhs(codebook_text.line),\n",
    "                      extract_valuesets(codebook_text.line)], axis=1)\n",
    "\n",
    "codebook.loc[~codebook.variable.isnull(), 'lhs'] = 'variable'\n",
    "codebook.lhs = codebook.lhs.fillna(method='pad')\n",
    "codebook.variable = codebook.variable.fillna(method='pad')\n",
    "\n",
    "\n",
    "def para_agg(df, text_cols, index, columns, values,\n",
    "             sep='\\n'):\n",
    "    return (\n",
    "        df[df.lhs.isin(text_cols)]\n",
    "        .groupby([index, columns])[values]\n",
    "        .apply(lambda values: sep.join(values))\n",
    "        .reset_index()\n",
    "        .pivot(index=index, columns=columns, values=values))\n",
    "\n",
    "codebook = codebook[codebook.is_body & (codebook.line > '')]\n",
    "codebook_values = codebook[~codebook.valueset_item.isnull()][['variable', 'valueset_item', 'descriptor']]\n",
    "\n",
    "\n",
    "def find_pivot_dups(df, index, columns, values):\n",
    "    x = df.groupby([index, columns])[[values]].count()\n",
    "    return x[x[values] > 1]\n",
    "\n",
    "codebook_variables = pd.concat(\n",
    "    [codebook[~codebook.lhs.isin(['variable', 'COMMENT', 'DESCRIPTION', 'VALUES', 'CODE VALUES'])\n",
    "             ].pivot(index='variable', columns='lhs', values='rhs'),\n",
    "     para_agg(codebook, ['COMMENT', 'DESCRIPTION'], 'variable', 'lhs', 'rhs')], axis=1)\n",
    "codebook_variables.head()"
   ]
  },
  {
   "cell_type": "code",
   "execution_count": null,
   "metadata": {},
   "outputs": [],
   "source": [
    "codebook_values[codebook_values.variable == 'SEX']"
   ]
  },
  {
   "cell_type": "code",
   "execution_count": null,
   "metadata": {},
   "outputs": [],
   "source": [
    "codebook_values[codebook_values.variable == 'RACE']"
   ]
  },
  {
   "cell_type": "markdown",
   "metadata": {},
   "source": [
    "## Mapping Demographics"
   ]
  },
  {
   "cell_type": "code",
   "execution_count": null,
   "metadata": {},
   "outputs": [],
   "source": [
    "def map_by_descriptor(field, codebook_values, pcornet_value):\n",
    "    lhs = codebook_values.rename(columns={'variable': 'field_name'})\n",
    "    rhs = pcornet_value.drop(['valueset_item_order', 'valueset_item_descriptor'], axis=1)\n",
    "    map = pd.merge(\n",
    "        lhs[codebook_values.variable == field],\n",
    "        rhs[pcornet_value.field_name.isin([field])],\n",
    "        on='descriptor', how='outer', suffixes=('_cms', '_pcornet')\n",
    "    )\n",
    "    return map\n",
    "\n",
    "map_by_descriptor('SEX', codebook_values, pcornet_value)"
   ]
  },
  {
   "cell_type": "code",
   "execution_count": null,
   "metadata": {},
   "outputs": [],
   "source": [
    "map_by_descriptor('RACE', codebook_values, pcornet_value)"
   ]
  },
  {
   "cell_type": "code",
   "execution_count": null,
   "metadata": {
    "collapsed": true
   },
   "outputs": [],
   "source": []
  }
 ],
 "metadata": {
  "kernelspec": {
   "display_name": "Python 3",
   "language": "python",
   "name": "python3"
  },
  "language_info": {
   "codemirror_mode": {
    "name": "ipython",
    "version": 3
   },
   "file_extension": ".py",
   "mimetype": "text/x-python",
   "name": "python",
   "nbconvert_exporter": "python",
   "pygments_lexer": "ipython3",
   "version": "3.5.2"
  }
 },
 "nbformat": 4,
 "nbformat_minor": 2
}
